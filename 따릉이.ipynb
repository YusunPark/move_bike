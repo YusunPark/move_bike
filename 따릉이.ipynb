{
  "nbformat": 4,
  "nbformat_minor": 0,
  "metadata": {
    "colab": {
      "name": "따릉이.ipynb",
      "provenance": [],
      "collapsed_sections": [],
      "toc_visible": true,
      "include_colab_link": true
    },
    "kernelspec": {
      "display_name": "Python 3",
      "name": "python3"
    },
    "language_info": {
      "name": "python"
    },
    "accelerator": "GPU"
  },
  "cells": [
    {
      "cell_type": "markdown",
      "metadata": {
        "id": "view-in-github",
        "colab_type": "text"
      },
      "source": [
        "<a href=\"https://colab.research.google.com/github/YusunPark/move_bike/blob/main/%EB%94%B0%EB%A6%89%EC%9D%B4.ipynb\" target=\"_parent\"><img src=\"https://colab.research.google.com/assets/colab-badge.svg\" alt=\"Open In Colab\"/></a>"
      ]
    },
    {
      "cell_type": "markdown",
      "metadata": {
        "id": "mlFZhmM9_8IL"
      },
      "source": [
        "# 데이터 준비\n"
      ]
    },
    {
      "cell_type": "code",
      "source": [
        "# !pip install pymysql\n",
        "# !pip3 install feature-engine==1.1.2 scikit-learn==1.0.0 imbalanced-learn==0.8.1\n",
        "\n",
        "import pandas as pd\n",
        "import numpy as np\n",
        "import pymysql\n",
        "from sklearn.preprocessing import MinMaxScaler\n",
        "from feature_engine.encoding import OneHotEncoder\n",
        "from lightgbm import LGBMClassifier\n",
        "from xgboost import XGBClassifier\n",
        "from xgboost import plot_importance, plot_tree\n",
        "import xgboost as xgb\n",
        "from sklearn.model_selection import train_test_split\n",
        "from sklearn.metrics import confusion_matrix, accuracy_score, precision_score\n",
        "from sklearn.metrics import recall_score, f1_score, roc_auc_score\n",
        "from imblearn.over_sampling import SMOTE\n",
        "\n",
        "\n",
        "import matplotlib.pyplot as plt\n",
        "import seaborn as sns\n",
        "import gc\n"
      ],
      "metadata": {
        "id": "0y--kls-JLZ2"
      },
      "execution_count": null,
      "outputs": []
    },
    {
      "cell_type": "code",
      "source": [
        "w_QUERY = \"select * from weather where date between '2022-04-30' and '2022-05-02';\"\n",
        "b_QUERY = \"select * from bike where date between '2022-04-30' and '2022-05-02';\""
      ],
      "metadata": {
        "id": "aEZZVuHHKmyj"
      },
      "execution_count": null,
      "outputs": []
    },
    {
      "cell_type": "code",
      "source": [
        "conn = pymysql.connect(\n",
        "    host='158.247.209.211', \n",
        "    port=3306,\n",
        "    user='root',\n",
        "    passwd='insight2022',\n",
        "    db='insight',\n",
        "    charset='utf8',\n",
        "    autocommit=False\n",
        ")\n",
        "\n",
        "cursor = conn.cursor(cursor=pymysql.cursors.DictCursor)\n",
        "\n",
        "# for value in data:\n",
        "cursor.execute(w_QUERY)\n",
        "weather_data = cursor.fetchall()\n",
        "weather_df = pd.DataFrame.from_dict(weather_data)\n",
        "\n",
        "cursor.execute(b_QUERY)\n",
        "bike_data = cursor.fetchall()\n",
        "bike_df = pd.DataFrame.from_dict(bike_data)\n",
        "\n",
        "# conn.commit()\n",
        "cursor.close()\n",
        "conn.close()\n"
      ],
      "metadata": {
        "id": "axGieubCJxz9"
      },
      "execution_count": null,
      "outputs": []
    },
    {
      "cell_type": "code",
      "source": [
        "bike_df['month']=bike_df['date'].dt.month\n",
        "bike_df['day']=bike_df['date'].dt.day\n",
        "bike_df['weekday']=bike_df['date'].dt.weekday\n",
        "bike_df['hour'] = bike_df['date'].dt.hour\n",
        "bike_df['time_only']=bike_df['date'].dt.time\n",
        "\n",
        "weather_df['hour'] = weather_df['date'].dt.hour\n",
        "\n",
        "bike_df.head()"
      ],
      "metadata": {
        "colab": {
          "base_uri": "https://localhost:8080/",
          "height": 206
        },
        "id": "dwLL4FEeM2AI",
        "outputId": "423daa46-39ac-4f6e-b04f-0967c67a6e54"
      },
      "execution_count": null,
      "outputs": [
        {
          "output_type": "execute_result",
          "data": {
            "text/plain": [
              "         id  rack_tot_cnt  parking_bike_tot_cnt  shared station_id  \\\n",
              "0  15396207            20                    26     130       ST-4   \n",
              "1  15396208            14                    20     143       ST-5   \n",
              "2  15396209            13                     1       8       ST-6   \n",
              "3  15396210             5                     0       0       ST-7   \n",
              "4  15396211            12                     1       8       ST-8   \n",
              "\n",
              "                 date  month  day  weekday  hour time_only  \n",
              "0 2022-04-30 00:00:02      4   30        5     0  00:00:02  \n",
              "1 2022-04-30 00:00:02      4   30        5     0  00:00:02  \n",
              "2 2022-04-30 00:00:02      4   30        5     0  00:00:02  \n",
              "3 2022-04-30 00:00:02      4   30        5     0  00:00:02  \n",
              "4 2022-04-30 00:00:02      4   30        5     0  00:00:02  "
            ],
            "text/html": [
              "<div>\n",
              "<style scoped>\n",
              "    .dataframe tbody tr th:only-of-type {\n",
              "        vertical-align: middle;\n",
              "    }\n",
              "\n",
              "    .dataframe tbody tr th {\n",
              "        vertical-align: top;\n",
              "    }\n",
              "\n",
              "    .dataframe thead th {\n",
              "        text-align: right;\n",
              "    }\n",
              "</style>\n",
              "<table border=\"1\" class=\"dataframe\">\n",
              "  <thead>\n",
              "    <tr style=\"text-align: right;\">\n",
              "      <th></th>\n",
              "      <th>id</th>\n",
              "      <th>rack_tot_cnt</th>\n",
              "      <th>parking_bike_tot_cnt</th>\n",
              "      <th>shared</th>\n",
              "      <th>station_id</th>\n",
              "      <th>date</th>\n",
              "      <th>month</th>\n",
              "      <th>day</th>\n",
              "      <th>weekday</th>\n",
              "      <th>hour</th>\n",
              "      <th>time_only</th>\n",
              "    </tr>\n",
              "  </thead>\n",
              "  <tbody>\n",
              "    <tr>\n",
              "      <th>0</th>\n",
              "      <td>15396207</td>\n",
              "      <td>20</td>\n",
              "      <td>26</td>\n",
              "      <td>130</td>\n",
              "      <td>ST-4</td>\n",
              "      <td>2022-04-30 00:00:02</td>\n",
              "      <td>4</td>\n",
              "      <td>30</td>\n",
              "      <td>5</td>\n",
              "      <td>0</td>\n",
              "      <td>00:00:02</td>\n",
              "    </tr>\n",
              "    <tr>\n",
              "      <th>1</th>\n",
              "      <td>15396208</td>\n",
              "      <td>14</td>\n",
              "      <td>20</td>\n",
              "      <td>143</td>\n",
              "      <td>ST-5</td>\n",
              "      <td>2022-04-30 00:00:02</td>\n",
              "      <td>4</td>\n",
              "      <td>30</td>\n",
              "      <td>5</td>\n",
              "      <td>0</td>\n",
              "      <td>00:00:02</td>\n",
              "    </tr>\n",
              "    <tr>\n",
              "      <th>2</th>\n",
              "      <td>15396209</td>\n",
              "      <td>13</td>\n",
              "      <td>1</td>\n",
              "      <td>8</td>\n",
              "      <td>ST-6</td>\n",
              "      <td>2022-04-30 00:00:02</td>\n",
              "      <td>4</td>\n",
              "      <td>30</td>\n",
              "      <td>5</td>\n",
              "      <td>0</td>\n",
              "      <td>00:00:02</td>\n",
              "    </tr>\n",
              "    <tr>\n",
              "      <th>3</th>\n",
              "      <td>15396210</td>\n",
              "      <td>5</td>\n",
              "      <td>0</td>\n",
              "      <td>0</td>\n",
              "      <td>ST-7</td>\n",
              "      <td>2022-04-30 00:00:02</td>\n",
              "      <td>4</td>\n",
              "      <td>30</td>\n",
              "      <td>5</td>\n",
              "      <td>0</td>\n",
              "      <td>00:00:02</td>\n",
              "    </tr>\n",
              "    <tr>\n",
              "      <th>4</th>\n",
              "      <td>15396211</td>\n",
              "      <td>12</td>\n",
              "      <td>1</td>\n",
              "      <td>8</td>\n",
              "      <td>ST-8</td>\n",
              "      <td>2022-04-30 00:00:02</td>\n",
              "      <td>4</td>\n",
              "      <td>30</td>\n",
              "      <td>5</td>\n",
              "      <td>0</td>\n",
              "      <td>00:00:02</td>\n",
              "    </tr>\n",
              "  </tbody>\n",
              "</table>\n",
              "</div>"
            ]
          },
          "metadata": {},
          "execution_count": 19
        }
      ]
    },
    {
      "cell_type": "code",
      "source": [
        "# 주말 : 1, 평일 : 0\n",
        "\n",
        "weekend = []\n",
        "\n",
        "for i in bike_df['weekday']:\n",
        "  if 0 <= i <= 4:\n",
        "    weekend.append(0)\n",
        "  else:\n",
        "    weekend.append(1)\n",
        " \n",
        "\n",
        "bike_df['weekend']=weekend\n",
        "bike_df.head()"
      ],
      "metadata": {
        "colab": {
          "base_uri": "https://localhost:8080/",
          "height": 206
        },
        "id": "STm9PR8Qg8lI",
        "outputId": "c857ee96-5ec9-42ef-99db-40e51ed65c0b"
      },
      "execution_count": null,
      "outputs": [
        {
          "output_type": "execute_result",
          "data": {
            "text/plain": [
              "         id  rack_tot_cnt  parking_bike_tot_cnt  shared station_id  \\\n",
              "0  15396207            20                    26     130       ST-4   \n",
              "1  15396208            14                    20     143       ST-5   \n",
              "2  15396209            13                     1       8       ST-6   \n",
              "3  15396210             5                     0       0       ST-7   \n",
              "4  15396211            12                     1       8       ST-8   \n",
              "\n",
              "                 date  month  day  weekday  hour time_only  weekend  \n",
              "0 2022-04-30 00:00:02      4   30        5     0  00:00:02        1  \n",
              "1 2022-04-30 00:00:02      4   30        5     0  00:00:02        1  \n",
              "2 2022-04-30 00:00:02      4   30        5     0  00:00:02        1  \n",
              "3 2022-04-30 00:00:02      4   30        5     0  00:00:02        1  \n",
              "4 2022-04-30 00:00:02      4   30        5     0  00:00:02        1  "
            ],
            "text/html": [
              "<div>\n",
              "<style scoped>\n",
              "    .dataframe tbody tr th:only-of-type {\n",
              "        vertical-align: middle;\n",
              "    }\n",
              "\n",
              "    .dataframe tbody tr th {\n",
              "        vertical-align: top;\n",
              "    }\n",
              "\n",
              "    .dataframe thead th {\n",
              "        text-align: right;\n",
              "    }\n",
              "</style>\n",
              "<table border=\"1\" class=\"dataframe\">\n",
              "  <thead>\n",
              "    <tr style=\"text-align: right;\">\n",
              "      <th></th>\n",
              "      <th>id</th>\n",
              "      <th>rack_tot_cnt</th>\n",
              "      <th>parking_bike_tot_cnt</th>\n",
              "      <th>shared</th>\n",
              "      <th>station_id</th>\n",
              "      <th>date</th>\n",
              "      <th>month</th>\n",
              "      <th>day</th>\n",
              "      <th>weekday</th>\n",
              "      <th>hour</th>\n",
              "      <th>time_only</th>\n",
              "      <th>weekend</th>\n",
              "    </tr>\n",
              "  </thead>\n",
              "  <tbody>\n",
              "    <tr>\n",
              "      <th>0</th>\n",
              "      <td>15396207</td>\n",
              "      <td>20</td>\n",
              "      <td>26</td>\n",
              "      <td>130</td>\n",
              "      <td>ST-4</td>\n",
              "      <td>2022-04-30 00:00:02</td>\n",
              "      <td>4</td>\n",
              "      <td>30</td>\n",
              "      <td>5</td>\n",
              "      <td>0</td>\n",
              "      <td>00:00:02</td>\n",
              "      <td>1</td>\n",
              "    </tr>\n",
              "    <tr>\n",
              "      <th>1</th>\n",
              "      <td>15396208</td>\n",
              "      <td>14</td>\n",
              "      <td>20</td>\n",
              "      <td>143</td>\n",
              "      <td>ST-5</td>\n",
              "      <td>2022-04-30 00:00:02</td>\n",
              "      <td>4</td>\n",
              "      <td>30</td>\n",
              "      <td>5</td>\n",
              "      <td>0</td>\n",
              "      <td>00:00:02</td>\n",
              "      <td>1</td>\n",
              "    </tr>\n",
              "    <tr>\n",
              "      <th>2</th>\n",
              "      <td>15396209</td>\n",
              "      <td>13</td>\n",
              "      <td>1</td>\n",
              "      <td>8</td>\n",
              "      <td>ST-6</td>\n",
              "      <td>2022-04-30 00:00:02</td>\n",
              "      <td>4</td>\n",
              "      <td>30</td>\n",
              "      <td>5</td>\n",
              "      <td>0</td>\n",
              "      <td>00:00:02</td>\n",
              "      <td>1</td>\n",
              "    </tr>\n",
              "    <tr>\n",
              "      <th>3</th>\n",
              "      <td>15396210</td>\n",
              "      <td>5</td>\n",
              "      <td>0</td>\n",
              "      <td>0</td>\n",
              "      <td>ST-7</td>\n",
              "      <td>2022-04-30 00:00:02</td>\n",
              "      <td>4</td>\n",
              "      <td>30</td>\n",
              "      <td>5</td>\n",
              "      <td>0</td>\n",
              "      <td>00:00:02</td>\n",
              "      <td>1</td>\n",
              "    </tr>\n",
              "    <tr>\n",
              "      <th>4</th>\n",
              "      <td>15396211</td>\n",
              "      <td>12</td>\n",
              "      <td>1</td>\n",
              "      <td>8</td>\n",
              "      <td>ST-8</td>\n",
              "      <td>2022-04-30 00:00:02</td>\n",
              "      <td>4</td>\n",
              "      <td>30</td>\n",
              "      <td>5</td>\n",
              "      <td>0</td>\n",
              "      <td>00:00:02</td>\n",
              "      <td>1</td>\n",
              "    </tr>\n",
              "  </tbody>\n",
              "</table>\n",
              "</div>"
            ]
          },
          "metadata": {},
          "execution_count": 20
        }
      ]
    },
    {
      "cell_type": "code",
      "source": [
        "# 봄 : 0, 여름 : 1, 가을 : 2, 겨울 : 3\n",
        "\n",
        "season = []\n",
        "\n",
        "for i in bike_df['month']:\n",
        "  if 3 <= i <= 5:\n",
        "    season.append(0)\n",
        "  elif 6 <= i <= 8:\n",
        "    season.append(1)\n",
        "  elif 9 <= i <= 11:\n",
        "    season.append(2)\n",
        "  else:\n",
        "    season.append(3)\n",
        "\n",
        "bike_df['season']=season\n",
        "bike_df.head()"
      ],
      "metadata": {
        "colab": {
          "base_uri": "https://localhost:8080/",
          "height": 206
        },
        "id": "qO3MsYXrdwJ1",
        "outputId": "172b115d-7e86-40ca-b9d2-9862682c96b4"
      },
      "execution_count": null,
      "outputs": [
        {
          "output_type": "execute_result",
          "data": {
            "text/plain": [
              "         id  rack_tot_cnt  parking_bike_tot_cnt  shared station_id  \\\n",
              "0  15396207            20                    26     130       ST-4   \n",
              "1  15396208            14                    20     143       ST-5   \n",
              "2  15396209            13                     1       8       ST-6   \n",
              "3  15396210             5                     0       0       ST-7   \n",
              "4  15396211            12                     1       8       ST-8   \n",
              "\n",
              "                 date  month  day  weekday  hour time_only  weekend  season  \n",
              "0 2022-04-30 00:00:02      4   30        5     0  00:00:02        1       0  \n",
              "1 2022-04-30 00:00:02      4   30        5     0  00:00:02        1       0  \n",
              "2 2022-04-30 00:00:02      4   30        5     0  00:00:02        1       0  \n",
              "3 2022-04-30 00:00:02      4   30        5     0  00:00:02        1       0  \n",
              "4 2022-04-30 00:00:02      4   30        5     0  00:00:02        1       0  "
            ],
            "text/html": [
              "<div>\n",
              "<style scoped>\n",
              "    .dataframe tbody tr th:only-of-type {\n",
              "        vertical-align: middle;\n",
              "    }\n",
              "\n",
              "    .dataframe tbody tr th {\n",
              "        vertical-align: top;\n",
              "    }\n",
              "\n",
              "    .dataframe thead th {\n",
              "        text-align: right;\n",
              "    }\n",
              "</style>\n",
              "<table border=\"1\" class=\"dataframe\">\n",
              "  <thead>\n",
              "    <tr style=\"text-align: right;\">\n",
              "      <th></th>\n",
              "      <th>id</th>\n",
              "      <th>rack_tot_cnt</th>\n",
              "      <th>parking_bike_tot_cnt</th>\n",
              "      <th>shared</th>\n",
              "      <th>station_id</th>\n",
              "      <th>date</th>\n",
              "      <th>month</th>\n",
              "      <th>day</th>\n",
              "      <th>weekday</th>\n",
              "      <th>hour</th>\n",
              "      <th>time_only</th>\n",
              "      <th>weekend</th>\n",
              "      <th>season</th>\n",
              "    </tr>\n",
              "  </thead>\n",
              "  <tbody>\n",
              "    <tr>\n",
              "      <th>0</th>\n",
              "      <td>15396207</td>\n",
              "      <td>20</td>\n",
              "      <td>26</td>\n",
              "      <td>130</td>\n",
              "      <td>ST-4</td>\n",
              "      <td>2022-04-30 00:00:02</td>\n",
              "      <td>4</td>\n",
              "      <td>30</td>\n",
              "      <td>5</td>\n",
              "      <td>0</td>\n",
              "      <td>00:00:02</td>\n",
              "      <td>1</td>\n",
              "      <td>0</td>\n",
              "    </tr>\n",
              "    <tr>\n",
              "      <th>1</th>\n",
              "      <td>15396208</td>\n",
              "      <td>14</td>\n",
              "      <td>20</td>\n",
              "      <td>143</td>\n",
              "      <td>ST-5</td>\n",
              "      <td>2022-04-30 00:00:02</td>\n",
              "      <td>4</td>\n",
              "      <td>30</td>\n",
              "      <td>5</td>\n",
              "      <td>0</td>\n",
              "      <td>00:00:02</td>\n",
              "      <td>1</td>\n",
              "      <td>0</td>\n",
              "    </tr>\n",
              "    <tr>\n",
              "      <th>2</th>\n",
              "      <td>15396209</td>\n",
              "      <td>13</td>\n",
              "      <td>1</td>\n",
              "      <td>8</td>\n",
              "      <td>ST-6</td>\n",
              "      <td>2022-04-30 00:00:02</td>\n",
              "      <td>4</td>\n",
              "      <td>30</td>\n",
              "      <td>5</td>\n",
              "      <td>0</td>\n",
              "      <td>00:00:02</td>\n",
              "      <td>1</td>\n",
              "      <td>0</td>\n",
              "    </tr>\n",
              "    <tr>\n",
              "      <th>3</th>\n",
              "      <td>15396210</td>\n",
              "      <td>5</td>\n",
              "      <td>0</td>\n",
              "      <td>0</td>\n",
              "      <td>ST-7</td>\n",
              "      <td>2022-04-30 00:00:02</td>\n",
              "      <td>4</td>\n",
              "      <td>30</td>\n",
              "      <td>5</td>\n",
              "      <td>0</td>\n",
              "      <td>00:00:02</td>\n",
              "      <td>1</td>\n",
              "      <td>0</td>\n",
              "    </tr>\n",
              "    <tr>\n",
              "      <th>4</th>\n",
              "      <td>15396211</td>\n",
              "      <td>12</td>\n",
              "      <td>1</td>\n",
              "      <td>8</td>\n",
              "      <td>ST-8</td>\n",
              "      <td>2022-04-30 00:00:02</td>\n",
              "      <td>4</td>\n",
              "      <td>30</td>\n",
              "      <td>5</td>\n",
              "      <td>0</td>\n",
              "      <td>00:00:02</td>\n",
              "      <td>1</td>\n",
              "      <td>0</td>\n",
              "    </tr>\n",
              "  </tbody>\n",
              "</table>\n",
              "</div>"
            ]
          },
          "metadata": {},
          "execution_count": 21
        }
      ]
    },
    {
      "cell_type": "code",
      "source": [
        "# 기후에 대한 값을 0, 1 로 나누어서 저장 (맑은 날 1, 흐린 날 0) - clouds 까지 1로 할지 논의 필요\n",
        "\n",
        "weather_df.loc[weather_df.main=='Clear','main']=1\n",
        "weather_df.loc[weather_df.main=='Clouds','main']=1\n",
        "weather_df.loc[weather_df.main=='Thunderstorm','main']=0\n",
        "weather_df.loc[weather_df.main=='Drizzle','main']=0\n",
        "weather_df.loc[weather_df.main=='Rain','main']=0\n",
        "weather_df.loc[weather_df.main=='Snow','main']=0\n",
        "weather_df.loc[weather_df.main=='Mist','main']=0\n",
        "weather_df.loc[weather_df.main=='Smoke','main']=0\n",
        "weather_df.loc[weather_df.main=='Haze','main']=0\n",
        "weather_df.loc[weather_df.main=='Dust','main']=0\n",
        "weather_df.loc[weather_df.main=='Fog','main']=0\n",
        "weather_df.loc[weather_df.main=='Sand','main']=0\n",
        "weather_df.loc[weather_df.main=='Ash','main']=0\n",
        "weather_df.loc[weather_df.main=='Squall','main']=0\n",
        "weather_df.loc[weather_df.main=='Tornado','main']=0"
      ],
      "metadata": {
        "id": "Hfx0SNWgb2iA"
      },
      "execution_count": null,
      "outputs": []
    },
    {
      "cell_type": "code",
      "source": [
        "# 학습에 필요한 데이터 생성.\n",
        "\n",
        "data = pd.merge(bike_df, weather_df.drop(['date'],axis=1), on='hour', how='left')\n",
        "data = data.set_index('date')\n",
        "data['main'] = pd.to_numeric(data['main'])\n",
        "\n",
        "data"
      ],
      "metadata": {
        "colab": {
          "base_uri": "https://localhost:8080/",
          "height": 455
        },
        "id": "AMFa_Bfraj1J",
        "outputId": "cc188e7e-f482-4329-97e6-0ac3c49f0bc3"
      },
      "execution_count": null,
      "outputs": [
        {
          "output_type": "execute_result",
          "data": {
            "text/plain": [
              "                           id  rack_tot_cnt  parking_bike_tot_cnt  shared  \\\n",
              "date                                                                        \n",
              "2022-04-30 00:00:02  15396207            20                    26     130   \n",
              "2022-04-30 00:00:02  15396207            20                    26     130   \n",
              "2022-04-30 00:00:02  15396208            14                    20     143   \n",
              "2022-04-30 00:00:02  15396208            14                    20     143   \n",
              "2022-04-30 00:00:02  15396209            13                     1       8   \n",
              "...                       ...           ...                   ...     ...   \n",
              "2022-05-01 20:30:02  16779714            15                     9      60   \n",
              "2022-05-01 20:30:02  16779715             7                     9     129   \n",
              "2022-05-01 20:30:02  16779715             7                     9     129   \n",
              "2022-05-01 20:30:02  16779716             2                     1      50   \n",
              "2022-05-01 20:30:02  16779716             2                     1      50   \n",
              "\n",
              "                    station_id  month  day  weekday  hour time_only  weekend  \\\n",
              "date                                                                           \n",
              "2022-04-30 00:00:02       ST-4      4   30        5     0  00:00:02        1   \n",
              "2022-04-30 00:00:02       ST-4      4   30        5     0  00:00:02        1   \n",
              "2022-04-30 00:00:02       ST-5      4   30        5     0  00:00:02        1   \n",
              "2022-04-30 00:00:02       ST-5      4   30        5     0  00:00:02        1   \n",
              "2022-04-30 00:00:02       ST-6      4   30        5     0  00:00:02        1   \n",
              "...                        ...    ...  ...      ...   ...       ...      ...   \n",
              "2022-05-01 20:30:02    ST-3040      5    1        6    20  20:30:02        1   \n",
              "2022-05-01 20:30:02    ST-3041      5    1        6    20  20:30:02        1   \n",
              "2022-05-01 20:30:02    ST-3041      5    1        6    20  20:30:02        1   \n",
              "2022-05-01 20:30:02    ST-1747      5    1        6    20  20:30:02        1   \n",
              "2022-05-01 20:30:02    ST-1747      5    1        6    20  20:30:02        1   \n",
              "\n",
              "                     season  main   temp  feels_like  wind_speed  \n",
              "date                                                              \n",
              "2022-04-30 00:00:02       0     1  12.31       11.11        2.06  \n",
              "2022-04-30 00:00:02       0     1   9.71        9.14        1.68  \n",
              "2022-04-30 00:00:02       0     1  12.31       11.11        2.06  \n",
              "2022-04-30 00:00:02       0     1   9.71        9.14        1.68  \n",
              "2022-04-30 00:00:02       0     1  12.31       11.11        2.06  \n",
              "...                     ...   ...    ...         ...         ...  \n",
              "2022-05-01 20:30:02       0     1  14.33       13.15        5.14  \n",
              "2022-05-01 20:30:02       0     1  12.61       11.73        3.60  \n",
              "2022-05-01 20:30:02       0     1  14.33       13.15        5.14  \n",
              "2022-05-01 20:30:02       0     1  12.61       11.73        3.60  \n",
              "2022-05-01 20:30:02       0     1  14.33       13.15        5.14  \n",
              "\n",
              "[2673924 rows x 16 columns]"
            ],
            "text/html": [
              "<div>\n",
              "<style scoped>\n",
              "    .dataframe tbody tr th:only-of-type {\n",
              "        vertical-align: middle;\n",
              "    }\n",
              "\n",
              "    .dataframe tbody tr th {\n",
              "        vertical-align: top;\n",
              "    }\n",
              "\n",
              "    .dataframe thead th {\n",
              "        text-align: right;\n",
              "    }\n",
              "</style>\n",
              "<table border=\"1\" class=\"dataframe\">\n",
              "  <thead>\n",
              "    <tr style=\"text-align: right;\">\n",
              "      <th></th>\n",
              "      <th>id</th>\n",
              "      <th>rack_tot_cnt</th>\n",
              "      <th>parking_bike_tot_cnt</th>\n",
              "      <th>shared</th>\n",
              "      <th>station_id</th>\n",
              "      <th>month</th>\n",
              "      <th>day</th>\n",
              "      <th>weekday</th>\n",
              "      <th>hour</th>\n",
              "      <th>time_only</th>\n",
              "      <th>weekend</th>\n",
              "      <th>season</th>\n",
              "      <th>main</th>\n",
              "      <th>temp</th>\n",
              "      <th>feels_like</th>\n",
              "      <th>wind_speed</th>\n",
              "    </tr>\n",
              "    <tr>\n",
              "      <th>date</th>\n",
              "      <th></th>\n",
              "      <th></th>\n",
              "      <th></th>\n",
              "      <th></th>\n",
              "      <th></th>\n",
              "      <th></th>\n",
              "      <th></th>\n",
              "      <th></th>\n",
              "      <th></th>\n",
              "      <th></th>\n",
              "      <th></th>\n",
              "      <th></th>\n",
              "      <th></th>\n",
              "      <th></th>\n",
              "      <th></th>\n",
              "      <th></th>\n",
              "    </tr>\n",
              "  </thead>\n",
              "  <tbody>\n",
              "    <tr>\n",
              "      <th>2022-04-30 00:00:02</th>\n",
              "      <td>15396207</td>\n",
              "      <td>20</td>\n",
              "      <td>26</td>\n",
              "      <td>130</td>\n",
              "      <td>ST-4</td>\n",
              "      <td>4</td>\n",
              "      <td>30</td>\n",
              "      <td>5</td>\n",
              "      <td>0</td>\n",
              "      <td>00:00:02</td>\n",
              "      <td>1</td>\n",
              "      <td>0</td>\n",
              "      <td>1</td>\n",
              "      <td>12.31</td>\n",
              "      <td>11.11</td>\n",
              "      <td>2.06</td>\n",
              "    </tr>\n",
              "    <tr>\n",
              "      <th>2022-04-30 00:00:02</th>\n",
              "      <td>15396207</td>\n",
              "      <td>20</td>\n",
              "      <td>26</td>\n",
              "      <td>130</td>\n",
              "      <td>ST-4</td>\n",
              "      <td>4</td>\n",
              "      <td>30</td>\n",
              "      <td>5</td>\n",
              "      <td>0</td>\n",
              "      <td>00:00:02</td>\n",
              "      <td>1</td>\n",
              "      <td>0</td>\n",
              "      <td>1</td>\n",
              "      <td>9.71</td>\n",
              "      <td>9.14</td>\n",
              "      <td>1.68</td>\n",
              "    </tr>\n",
              "    <tr>\n",
              "      <th>2022-04-30 00:00:02</th>\n",
              "      <td>15396208</td>\n",
              "      <td>14</td>\n",
              "      <td>20</td>\n",
              "      <td>143</td>\n",
              "      <td>ST-5</td>\n",
              "      <td>4</td>\n",
              "      <td>30</td>\n",
              "      <td>5</td>\n",
              "      <td>0</td>\n",
              "      <td>00:00:02</td>\n",
              "      <td>1</td>\n",
              "      <td>0</td>\n",
              "      <td>1</td>\n",
              "      <td>12.31</td>\n",
              "      <td>11.11</td>\n",
              "      <td>2.06</td>\n",
              "    </tr>\n",
              "    <tr>\n",
              "      <th>2022-04-30 00:00:02</th>\n",
              "      <td>15396208</td>\n",
              "      <td>14</td>\n",
              "      <td>20</td>\n",
              "      <td>143</td>\n",
              "      <td>ST-5</td>\n",
              "      <td>4</td>\n",
              "      <td>30</td>\n",
              "      <td>5</td>\n",
              "      <td>0</td>\n",
              "      <td>00:00:02</td>\n",
              "      <td>1</td>\n",
              "      <td>0</td>\n",
              "      <td>1</td>\n",
              "      <td>9.71</td>\n",
              "      <td>9.14</td>\n",
              "      <td>1.68</td>\n",
              "    </tr>\n",
              "    <tr>\n",
              "      <th>2022-04-30 00:00:02</th>\n",
              "      <td>15396209</td>\n",
              "      <td>13</td>\n",
              "      <td>1</td>\n",
              "      <td>8</td>\n",
              "      <td>ST-6</td>\n",
              "      <td>4</td>\n",
              "      <td>30</td>\n",
              "      <td>5</td>\n",
              "      <td>0</td>\n",
              "      <td>00:00:02</td>\n",
              "      <td>1</td>\n",
              "      <td>0</td>\n",
              "      <td>1</td>\n",
              "      <td>12.31</td>\n",
              "      <td>11.11</td>\n",
              "      <td>2.06</td>\n",
              "    </tr>\n",
              "    <tr>\n",
              "      <th>...</th>\n",
              "      <td>...</td>\n",
              "      <td>...</td>\n",
              "      <td>...</td>\n",
              "      <td>...</td>\n",
              "      <td>...</td>\n",
              "      <td>...</td>\n",
              "      <td>...</td>\n",
              "      <td>...</td>\n",
              "      <td>...</td>\n",
              "      <td>...</td>\n",
              "      <td>...</td>\n",
              "      <td>...</td>\n",
              "      <td>...</td>\n",
              "      <td>...</td>\n",
              "      <td>...</td>\n",
              "      <td>...</td>\n",
              "    </tr>\n",
              "    <tr>\n",
              "      <th>2022-05-01 20:30:02</th>\n",
              "      <td>16779714</td>\n",
              "      <td>15</td>\n",
              "      <td>9</td>\n",
              "      <td>60</td>\n",
              "      <td>ST-3040</td>\n",
              "      <td>5</td>\n",
              "      <td>1</td>\n",
              "      <td>6</td>\n",
              "      <td>20</td>\n",
              "      <td>20:30:02</td>\n",
              "      <td>1</td>\n",
              "      <td>0</td>\n",
              "      <td>1</td>\n",
              "      <td>14.33</td>\n",
              "      <td>13.15</td>\n",
              "      <td>5.14</td>\n",
              "    </tr>\n",
              "    <tr>\n",
              "      <th>2022-05-01 20:30:02</th>\n",
              "      <td>16779715</td>\n",
              "      <td>7</td>\n",
              "      <td>9</td>\n",
              "      <td>129</td>\n",
              "      <td>ST-3041</td>\n",
              "      <td>5</td>\n",
              "      <td>1</td>\n",
              "      <td>6</td>\n",
              "      <td>20</td>\n",
              "      <td>20:30:02</td>\n",
              "      <td>1</td>\n",
              "      <td>0</td>\n",
              "      <td>1</td>\n",
              "      <td>12.61</td>\n",
              "      <td>11.73</td>\n",
              "      <td>3.60</td>\n",
              "    </tr>\n",
              "    <tr>\n",
              "      <th>2022-05-01 20:30:02</th>\n",
              "      <td>16779715</td>\n",
              "      <td>7</td>\n",
              "      <td>9</td>\n",
              "      <td>129</td>\n",
              "      <td>ST-3041</td>\n",
              "      <td>5</td>\n",
              "      <td>1</td>\n",
              "      <td>6</td>\n",
              "      <td>20</td>\n",
              "      <td>20:30:02</td>\n",
              "      <td>1</td>\n",
              "      <td>0</td>\n",
              "      <td>1</td>\n",
              "      <td>14.33</td>\n",
              "      <td>13.15</td>\n",
              "      <td>5.14</td>\n",
              "    </tr>\n",
              "    <tr>\n",
              "      <th>2022-05-01 20:30:02</th>\n",
              "      <td>16779716</td>\n",
              "      <td>2</td>\n",
              "      <td>1</td>\n",
              "      <td>50</td>\n",
              "      <td>ST-1747</td>\n",
              "      <td>5</td>\n",
              "      <td>1</td>\n",
              "      <td>6</td>\n",
              "      <td>20</td>\n",
              "      <td>20:30:02</td>\n",
              "      <td>1</td>\n",
              "      <td>0</td>\n",
              "      <td>1</td>\n",
              "      <td>12.61</td>\n",
              "      <td>11.73</td>\n",
              "      <td>3.60</td>\n",
              "    </tr>\n",
              "    <tr>\n",
              "      <th>2022-05-01 20:30:02</th>\n",
              "      <td>16779716</td>\n",
              "      <td>2</td>\n",
              "      <td>1</td>\n",
              "      <td>50</td>\n",
              "      <td>ST-1747</td>\n",
              "      <td>5</td>\n",
              "      <td>1</td>\n",
              "      <td>6</td>\n",
              "      <td>20</td>\n",
              "      <td>20:30:02</td>\n",
              "      <td>1</td>\n",
              "      <td>0</td>\n",
              "      <td>1</td>\n",
              "      <td>14.33</td>\n",
              "      <td>13.15</td>\n",
              "      <td>5.14</td>\n",
              "    </tr>\n",
              "  </tbody>\n",
              "</table>\n",
              "<p>2673924 rows × 16 columns</p>\n",
              "</div>"
            ]
          },
          "metadata": {},
          "execution_count": 23
        }
      ]
    },
    {
      "cell_type": "code",
      "source": [
        "del bike_df \n",
        "del weather_df \n",
        "\n",
        "del bike_data\n",
        "del weather_data\n",
        "\n",
        "gc.collect()\n"
      ],
      "metadata": {
        "id": "5yaCC9xyvCPX",
        "colab": {
          "base_uri": "https://localhost:8080/"
        },
        "outputId": "e5ad0526-4f43-488f-8e22-d0a3e87eef1f"
      },
      "execution_count": null,
      "outputs": [
        {
          "output_type": "execute_result",
          "data": {
            "text/plain": [
              "56"
            ]
          },
          "metadata": {},
          "execution_count": 24
        }
      ]
    },
    {
      "cell_type": "code",
      "metadata": {
        "colab": {
          "base_uri": "https://localhost:8080/",
          "height": 539
        },
        "id": "e8c7rLU__8IQ",
        "outputId": "50c2f07e-7f5e-4553-81c7-6f5a9351e177"
      },
      "source": [
        "# Correlation with heat map\n",
        "corr = data.corr()\n",
        "sns.set_context(\"notebook\", font_scale=1.0, rc={\"lines.linewidth\": 2.5})\n",
        "plt.figure(figsize=(13,7))\n",
        "# create a mask so we only see the correlation values once\n",
        "mask = np.zeros_like(corr)\n",
        "mask[np.triu_indices_from(mask, 1)] = True\n",
        "a = sns.heatmap(corr,mask=mask, annot=True, fmt='.2f')\n",
        "rotx = a.set_xticklabels(a.get_xticklabels(), rotation=90)\n",
        "roty = a.set_yticklabels(a.get_yticklabels(), rotation=0)"
      ],
      "execution_count": null,
      "outputs": [
        {
          "output_type": "display_data",
          "data": {
            "text/plain": [
              "<Figure size 936x504 with 2 Axes>"
            ],
            "image/png": "[encoded data removed]"
          },
          "metadata": {
            "needs_background": "light"
          }
        }
      ]
    },
    {
      "cell_type": "code",
      "source": [
        "# 중복 데이터 record 확인\n",
        "data[data.duplicated(keep = False)]"
      ],
      "metadata": {
        "colab": {
          "base_uri": "https://localhost:8080/",
          "height": 81
        },
        "id": "I6mHEMRExzOq",
        "outputId": "b1843b99-82fd-445f-bf01-8612d5c232d6"
      },
      "execution_count": null,
      "outputs": [
        {
          "output_type": "execute_result",
          "data": {
            "text/plain": [
              "Empty DataFrame\n",
              "Columns: [id, rack_tot_cnt, parking_bike_tot_cnt, shared, station_id, month, day, weekday, hour, time_only, weekend, season, main, temp, feels_like, wind_speed]\n",
              "Index: []"
            ],
            "text/html": [
              "<div>\n",
              "<style scoped>\n",
              "    .dataframe tbody tr th:only-of-type {\n",
              "        vertical-align: middle;\n",
              "    }\n",
              "\n",
              "    .dataframe tbody tr th {\n",
              "        vertical-align: top;\n",
              "    }\n",
              "\n",
              "    .dataframe thead th {\n",
              "        text-align: right;\n",
              "    }\n",
              "</style>\n",
              "<table border=\"1\" class=\"dataframe\">\n",
              "  <thead>\n",
              "    <tr style=\"text-align: right;\">\n",
              "      <th></th>\n",
              "      <th>id</th>\n",
              "      <th>rack_tot_cnt</th>\n",
              "      <th>parking_bike_tot_cnt</th>\n",
              "      <th>shared</th>\n",
              "      <th>station_id</th>\n",
              "      <th>month</th>\n",
              "      <th>day</th>\n",
              "      <th>weekday</th>\n",
              "      <th>hour</th>\n",
              "      <th>time_only</th>\n",
              "      <th>weekend</th>\n",
              "      <th>season</th>\n",
              "      <th>main</th>\n",
              "      <th>temp</th>\n",
              "      <th>feels_like</th>\n",
              "      <th>wind_speed</th>\n",
              "    </tr>\n",
              "    <tr>\n",
              "      <th>date</th>\n",
              "      <th></th>\n",
              "      <th></th>\n",
              "      <th></th>\n",
              "      <th></th>\n",
              "      <th></th>\n",
              "      <th></th>\n",
              "      <th></th>\n",
              "      <th></th>\n",
              "      <th></th>\n",
              "      <th></th>\n",
              "      <th></th>\n",
              "      <th></th>\n",
              "      <th></th>\n",
              "      <th></th>\n",
              "      <th></th>\n",
              "      <th></th>\n",
              "    </tr>\n",
              "  </thead>\n",
              "  <tbody>\n",
              "  </tbody>\n",
              "</table>\n",
              "</div>"
            ]
          },
          "metadata": {},
          "execution_count": 26
        }
      ]
    },
    {
      "cell_type": "markdown",
      "metadata": {
        "id": "0mT0pAmF_8JO"
      },
      "source": [
        "## X, Y 데이터 분리하기\n"
      ]
    },
    {
      "cell_type": "code",
      "metadata": {
        "id": "TeNs0sOi_8JO"
      },
      "source": [
        "X = data.drop(['parking_bike_tot_cnt', 'id', 'time_only', 'station_id', 'shared', 'rack_tot_cnt'], axis=1)\n",
        "Y = data['parking_bike_tot_cnt']"
      ],
      "execution_count": null,
      "outputs": []
    },
    {
      "cell_type": "code",
      "metadata": {
        "colab": {
          "base_uri": "https://localhost:8080/"
        },
        "id": "9a0v2bLa_8JO",
        "outputId": "d1d3ca10-6dbe-4541-cbaf-dbd62dea1ad5"
      },
      "source": [
        "# 라벨 값의 비율 확인 \n",
        "Y.value_counts()"
      ],
      "execution_count": null,
      "outputs": [
        {
          "output_type": "execute_result",
          "data": {
            "text/plain": [
              "0      365069\n",
              "1      242935\n",
              "2      190776\n",
              "3      148834\n",
              "4      131039\n",
              "        ...  \n",
              "233         2\n",
              "114         2\n",
              "143         1\n",
              "151         1\n",
              "141         1\n",
              "Name: parking_bike_tot_cnt, Length: 185, dtype: int64"
            ]
          },
          "metadata": {},
          "execution_count": 28
        }
      ]
    },
    {
      "cell_type": "code",
      "metadata": {
        "id": "jQMHjUJ4_8JP"
      },
      "source": [
        "ohencoder = OneHotEncoder(variables=['season'])\n",
        "X['season'] = X['season'].astype(str)\n",
        "X = ohencoder.fit_transform(X)"
      ],
      "execution_count": null,
      "outputs": []
    },
    {
      "cell_type": "markdown",
      "metadata": {
        "id": "pVTtrisNyM4X"
      },
      "source": [
        "## train / test 분리\n"
      ]
    },
    {
      "cell_type": "code",
      "source": [
        "Y"
      ],
      "metadata": {
        "colab": {
          "base_uri": "https://localhost:8080/"
        },
        "id": "c74eKilbZnxm",
        "outputId": "8ac0e5b6-a9cd-4764-f2db-4bfd8e0ecfe3"
      },
      "execution_count": null,
      "outputs": [
        {
          "output_type": "execute_result",
          "data": {
            "text/plain": [
              "date\n",
              "2022-04-30 00:00:02    26\n",
              "2022-04-30 00:00:02    26\n",
              "2022-04-30 00:00:02    20\n",
              "2022-04-30 00:00:02    20\n",
              "2022-04-30 00:00:02     1\n",
              "                       ..\n",
              "2022-05-01 20:30:02     9\n",
              "2022-05-01 20:30:02     9\n",
              "2022-05-01 20:30:02     9\n",
              "2022-05-01 20:30:02     1\n",
              "2022-05-01 20:30:02     1\n",
              "Name: parking_bike_tot_cnt, Length: 2673924, dtype: int64"
            ]
          },
          "metadata": {},
          "execution_count": 31
        }
      ]
    },
    {
      "cell_type": "code",
      "execution_count": null,
      "metadata": {
        "id": "HPVeSmoHyM4X"
      },
      "outputs": [],
      "source": [
        "# train, test 7:3 분리\n",
        "X_train, X_test, Y_train, Y_test = train_test_split(X, Y, test_size=0.3, random_state=20)\n",
        "X_train.reset_index(drop=True, inplace=True)\n",
        "X_test.reset_index(drop=True, inplace=True)\n",
        "Y_train.reset_index(drop=True, inplace=True)\n",
        "Y_test.reset_index(drop=True, inplace=True)"
      ]
    },
    {
      "cell_type": "code",
      "execution_count": null,
      "metadata": {
        "colab": {
          "base_uri": "https://localhost:8080/"
        },
        "outputId": "c94da779-fb9b-4dc7-e95c-b1c2ec9bcc8d",
        "id": "jbiYOQmhyM4Y"
      },
      "outputs": [
        {
          "output_type": "execute_result",
          "data": {
            "text/plain": [
              "(802178, 12)"
            ]
          },
          "metadata": {},
          "execution_count": 33
        }
      ],
      "source": [
        "X_test.shape"
      ]
    },
    {
      "cell_type": "code",
      "execution_count": null,
      "metadata": {
        "colab": {
          "base_uri": "https://localhost:8080/"
        },
        "outputId": "4ac78335-0c6e-44a0-d069-d47caba6cada",
        "id": "sTCJyUHzyM4Y"
      },
      "outputs": [
        {
          "output_type": "stream",
          "name": "stdout",
          "text": [
            "Train ratio of X: 0.699999700814234\n",
            "Test ratio of X: 0.30000029918576593\n"
          ]
        }
      ],
      "source": [
        "print(\"Train ratio of X:\", X_train.shape[0] / X.shape[0])\n",
        "print(\"Test ratio of X:\", X_test.shape[0] / X.shape[0])"
      ]
    },
    {
      "cell_type": "markdown",
      "metadata": {
        "id": "ajj31HU1_8JO"
      },
      "source": [
        "## Scaler"
      ]
    },
    {
      "cell_type": "code",
      "source": [
        "del data\n",
        "del X\n",
        "del Y\n",
        "gc.collect()"
      ],
      "metadata": {
        "colab": {
          "base_uri": "https://localhost:8080/"
        },
        "id": "vi-CdybFE9RF",
        "outputId": "eefbf4fb-a889-4b54-8497-96fa053ee74d"
      },
      "execution_count": null,
      "outputs": [
        {
          "output_type": "execute_result",
          "data": {
            "text/plain": [
              "9166"
            ]
          },
          "metadata": {},
          "execution_count": 35
        }
      ]
    },
    {
      "cell_type": "code",
      "metadata": {
        "id": "prdOQLVY_8JO"
      },
      "source": [
        "# scale 이 필요한 컬럼들\n",
        "needScale = ['temp', 'feels_like', 'wind_speed']"
      ],
      "execution_count": null,
      "outputs": []
    },
    {
      "cell_type": "code",
      "execution_count": null,
      "metadata": {
        "id": "R0qEDwiyGOBg"
      },
      "outputs": [],
      "source": [
        "X_train_temp_row = X_train\n",
        "X_test_temp_row = X_test"
      ]
    },
    {
      "cell_type": "code",
      "execution_count": null,
      "metadata": {
        "id": "A6J6jZkMGUEs"
      },
      "outputs": [],
      "source": [
        "X_train = X_train_temp_row\n",
        "X_test = X_test_temp_row"
      ]
    },
    {
      "cell_type": "code",
      "metadata": {
        "id": "bklIPOGi_8JO"
      },
      "source": [
        "MMS = MinMaxScaler()\n",
        "\n",
        "for column in needScale:\n",
        "    X_train[column] = MMS.fit_transform(X_train[column].to_numpy().reshape(-1, 1))\n",
        "    X_test[column] = MMS.transform(X_test[column].to_numpy().reshape(-1, 1))"
      ],
      "execution_count": null,
      "outputs": []
    },
    {
      "cell_type": "code",
      "metadata": {
        "colab": {
          "base_uri": "https://localhost:8080/",
          "height": 424
        },
        "id": "YWjmt-Gj_8JP",
        "outputId": "75f0e950-367e-4d30-c0f2-94b0d90aaced"
      },
      "source": [
        "X_train"
      ],
      "execution_count": null,
      "outputs": [
        {
          "output_type": "execute_result",
          "data": {
            "text/plain": [
              "         rack_tot_cnt    shared  month  day  weekday  hour  weekend  main  \\\n",
              "0            0.227273  0.083462      4   30        5    13        1     1   \n",
              "1            0.136364  0.000000      5    1        6     0        1     1   \n",
              "2            0.136364  0.033846      5    1        6    13        1     1   \n",
              "3            0.136364  0.009615      5    1        6    15        1     1   \n",
              "4            0.295455  0.033462      5    1        6     4        1     1   \n",
              "...               ...       ...    ...  ...      ...   ...      ...   ...   \n",
              "1871741      0.181818  0.003846      5    1        6     5        1     0   \n",
              "1871742      0.522727  0.066154      4   30        5     8        1     1   \n",
              "1871743      0.181818  0.084615      4   30        5    22        1     0   \n",
              "1871744      0.181818  0.019231      4   30        5    17        1     1   \n",
              "1871745      0.409091  0.015385      4   30        5    16        1     1   \n",
              "\n",
              "             temp  feels_like  wind_speed  season_0  \n",
              "0        1.000000    0.985260    0.616705         1  \n",
              "1        0.520661    0.525989    0.117849         1  \n",
              "2        0.858753    0.896043    0.470252         1  \n",
              "3        0.886551    0.925524    0.823799         1  \n",
              "4        0.433509    0.435221    0.411899         1  \n",
              "...           ...         ...         ...       ...  \n",
              "1871741  0.000000    0.000000    0.058352         1  \n",
              "1871742  0.477836    0.467029    0.081236         1  \n",
              "1871743  0.450038    0.477890    0.235698         1  \n",
              "1871744  0.946657    0.944919    0.765446         1  \n",
              "1871745  1.000000    1.000000    0.764302         1  \n",
              "\n",
              "[1871746 rows x 12 columns]"
            ],
            "text/html": [
              "<div>\n",
              "<style scoped>\n",
              "    .dataframe tbody tr th:only-of-type {\n",
              "        vertical-align: middle;\n",
              "    }\n",
              "\n",
              "    .dataframe tbody tr th {\n",
              "        vertical-align: top;\n",
              "    }\n",
              "\n",
              "    .dataframe thead th {\n",
              "        text-align: right;\n",
              "    }\n",
              "</style>\n",
              "<table border=\"1\" class=\"dataframe\">\n",
              "  <thead>\n",
              "    <tr style=\"text-align: right;\">\n",
              "      <th></th>\n",
              "      <th>rack_tot_cnt</th>\n",
              "      <th>shared</th>\n",
              "      <th>month</th>\n",
              "      <th>day</th>\n",
              "      <th>weekday</th>\n",
              "      <th>hour</th>\n",
              "      <th>weekend</th>\n",
              "      <th>main</th>\n",
              "      <th>temp</th>\n",
              "      <th>feels_like</th>\n",
              "      <th>wind_speed</th>\n",
              "      <th>season_0</th>\n",
              "    </tr>\n",
              "  </thead>\n",
              "  <tbody>\n",
              "    <tr>\n",
              "      <th>0</th>\n",
              "      <td>0.227273</td>\n",
              "      <td>0.083462</td>\n",
              "      <td>4</td>\n",
              "      <td>30</td>\n",
              "      <td>5</td>\n",
              "      <td>13</td>\n",
              "      <td>1</td>\n",
              "      <td>1</td>\n",
              "      <td>1.000000</td>\n",
              "      <td>0.985260</td>\n",
              "      <td>0.616705</td>\n",
              "      <td>1</td>\n",
              "    </tr>\n",
              "    <tr>\n",
              "      <th>1</th>\n",
              "      <td>0.136364</td>\n",
              "      <td>0.000000</td>\n",
              "      <td>5</td>\n",
              "      <td>1</td>\n",
              "      <td>6</td>\n",
              "      <td>0</td>\n",
              "      <td>1</td>\n",
              "      <td>1</td>\n",
              "      <td>0.520661</td>\n",
              "      <td>0.525989</td>\n",
              "      <td>0.117849</td>\n",
              "      <td>1</td>\n",
              "    </tr>\n",
              "    <tr>\n",
              "      <th>2</th>\n",
              "      <td>0.136364</td>\n",
              "      <td>0.033846</td>\n",
              "      <td>5</td>\n",
              "      <td>1</td>\n",
              "      <td>6</td>\n",
              "      <td>13</td>\n",
              "      <td>1</td>\n",
              "      <td>1</td>\n",
              "      <td>0.858753</td>\n",
              "      <td>0.896043</td>\n",
              "      <td>0.470252</td>\n",
              "      <td>1</td>\n",
              "    </tr>\n",
              "    <tr>\n",
              "      <th>3</th>\n",
              "      <td>0.136364</td>\n",
              "      <td>0.009615</td>\n",
              "      <td>5</td>\n",
              "      <td>1</td>\n",
              "      <td>6</td>\n",
              "      <td>15</td>\n",
              "      <td>1</td>\n",
              "      <td>1</td>\n",
              "      <td>0.886551</td>\n",
              "      <td>0.925524</td>\n",
              "      <td>0.823799</td>\n",
              "      <td>1</td>\n",
              "    </tr>\n",
              "    <tr>\n",
              "      <th>4</th>\n",
              "      <td>0.295455</td>\n",
              "      <td>0.033462</td>\n",
              "      <td>5</td>\n",
              "      <td>1</td>\n",
              "      <td>6</td>\n",
              "      <td>4</td>\n",
              "      <td>1</td>\n",
              "      <td>1</td>\n",
              "      <td>0.433509</td>\n",
              "      <td>0.435221</td>\n",
              "      <td>0.411899</td>\n",
              "      <td>1</td>\n",
              "    </tr>\n",
              "    <tr>\n",
              "      <th>...</th>\n",
              "      <td>...</td>\n",
              "      <td>...</td>\n",
              "      <td>...</td>\n",
              "      <td>...</td>\n",
              "      <td>...</td>\n",
              "      <td>...</td>\n",
              "      <td>...</td>\n",
              "      <td>...</td>\n",
              "      <td>...</td>\n",
              "      <td>...</td>\n",
              "      <td>...</td>\n",
              "      <td>...</td>\n",
              "    </tr>\n",
              "    <tr>\n",
              "      <th>1871741</th>\n",
              "      <td>0.181818</td>\n",
              "      <td>0.003846</td>\n",
              "      <td>5</td>\n",
              "      <td>1</td>\n",
              "      <td>6</td>\n",
              "      <td>5</td>\n",
              "      <td>1</td>\n",
              "      <td>0</td>\n",
              "      <td>0.000000</td>\n",
              "      <td>0.000000</td>\n",
              "      <td>0.058352</td>\n",
              "      <td>1</td>\n",
              "    </tr>\n",
              "    <tr>\n",
              "      <th>1871742</th>\n",
              "      <td>0.522727</td>\n",
              "      <td>0.066154</td>\n",
              "      <td>4</td>\n",
              "      <td>30</td>\n",
              "      <td>5</td>\n",
              "      <td>8</td>\n",
              "      <td>1</td>\n",
              "      <td>1</td>\n",
              "      <td>0.477836</td>\n",
              "      <td>0.467029</td>\n",
              "      <td>0.081236</td>\n",
              "      <td>1</td>\n",
              "    </tr>\n",
              "    <tr>\n",
              "      <th>1871743</th>\n",
              "      <td>0.181818</td>\n",
              "      <td>0.084615</td>\n",
              "      <td>4</td>\n",
              "      <td>30</td>\n",
              "      <td>5</td>\n",
              "      <td>22</td>\n",
              "      <td>1</td>\n",
              "      <td>0</td>\n",
              "      <td>0.450038</td>\n",
              "      <td>0.477890</td>\n",
              "      <td>0.235698</td>\n",
              "      <td>1</td>\n",
              "    </tr>\n",
              "    <tr>\n",
              "      <th>1871744</th>\n",
              "      <td>0.181818</td>\n",
              "      <td>0.019231</td>\n",
              "      <td>4</td>\n",
              "      <td>30</td>\n",
              "      <td>5</td>\n",
              "      <td>17</td>\n",
              "      <td>1</td>\n",
              "      <td>1</td>\n",
              "      <td>0.946657</td>\n",
              "      <td>0.944919</td>\n",
              "      <td>0.765446</td>\n",
              "      <td>1</td>\n",
              "    </tr>\n",
              "    <tr>\n",
              "      <th>1871745</th>\n",
              "      <td>0.409091</td>\n",
              "      <td>0.015385</td>\n",
              "      <td>4</td>\n",
              "      <td>30</td>\n",
              "      <td>5</td>\n",
              "      <td>16</td>\n",
              "      <td>1</td>\n",
              "      <td>1</td>\n",
              "      <td>1.000000</td>\n",
              "      <td>1.000000</td>\n",
              "      <td>0.764302</td>\n",
              "      <td>1</td>\n",
              "    </tr>\n",
              "  </tbody>\n",
              "</table>\n",
              "<p>1871746 rows × 12 columns</p>\n",
              "</div>"
            ]
          },
          "metadata": {},
          "execution_count": 40
        }
      ]
    },
    {
      "cell_type": "markdown",
      "metadata": {
        "id": "nf61WmJesbSy"
      },
      "source": [
        "## LightGBM"
      ]
    },
    {
      "cell_type": "code",
      "source": [
        "import lightgbm as lgb\n",
        "\n",
        "lgb_clf = lgb.LGBMClassifier( n_estimators=100, num_leaves=10, learning_rate = 0.1, objective='regression')\n",
        "lgb_clf.fit(X_train, Y_train)\n",
        "y_pred = lgb_clf.predict(X_test)\n",
        "accuracy_score(Y_test, y_pred)"
      ],
      "metadata": {
        "id": "_AvrBMA9Lblb",
        "colab": {
          "base_uri": "https://localhost:8080/"
        },
        "outputId": "f30cd318-5ea8-47b1-8d2c-0e8379e76ec0"
      },
      "execution_count": null,
      "outputs": [
        {
          "output_type": "execute_result",
          "data": {
            "text/plain": [
              "0.07108646709333839"
            ]
          },
          "metadata": {},
          "execution_count": 45
        }
      ]
    },
    {
      "cell_type": "code",
      "metadata": {
        "id": "3BI5-DaRsbS6"
      },
      "source": [
        "# lgbm = LGBMClassifier(n_estimators=30, num_leaves=20, n_jobs=-1, boost_from_average=False, random_state=13)\n",
        "# lgbm.fit(X_train, Y_train)\n",
        "# lgbm_pred = lgbm.predict(X_test)\n",
        "\n",
        "# print_clf_eval(Y_test, lgbm_pred)"
      ],
      "execution_count": null,
      "outputs": []
    },
    {
      "cell_type": "markdown",
      "metadata": {
        "id": "XfmgGNiIshlA"
      },
      "source": [
        "## XG Boost"
      ]
    },
    {
      "cell_type": "code",
      "source": [
        "from xgboost import plot_importance, plot_tree\n",
        "\n",
        "XG_model_month = xgb.XGBRegressor(n_estimators=100)\n",
        "XG_model_month.fit(X_train,Y_train, eval_set=[(X_test, Y_test)], early_stopping_rounds=50,verbose=False)\n",
        "\n",
        "# 주요하게 적용하는 변수를 판단\n",
        "plot_importance(XG_model_month, height=0.9)"
      ],
      "metadata": {
        "id": "Guqfrq9i8IdQ",
        "colab": {
          "base_uri": "https://localhost:8080/",
          "height": 356
        },
        "outputId": "cdf59cb9-d60d-4711-c632-ce8e6b348803"
      },
      "execution_count": null,
      "outputs": [
        {
          "output_type": "stream",
          "name": "stderr",
          "text": [
            "C:\\Users\\HwangDongHyun\\anaconda3\\lib\\site-packages\\xgboost\\sklearn.py:793: UserWarning: `early_stopping_rounds` in `fit` method is deprecated for better compatibility with scikit-learn, use `early_stopping_rounds` in constructor or`set_params` instead.\n",
            "  warnings.warn(\n"
          ]
        },
        {
          "output_type": "execute_result",
          "data": {
            "text/plain": [
              "<AxesSubplot:title={'center':'Feature importance'}, xlabel='F score', ylabel='Features'>"
            ]
          },
          "metadata": {},
          "execution_count": 46
        },
        {
          "output_type": "display_data",
          "data": {
            "text/plain": [
              "<Figure size 432x288 with 1 Axes>"
            ],
            "image/png": "[encoded data removed]"
          },
          "metadata": {
            "needs_background": "light"
          }
        }
      ]
    },
    {
      "cell_type": "code",
      "source": [
        "# #테스트 데이터 중 특정 store/item 데이터를 추출\n",
        "# df1 = X_test[(X_test.store==1) & (X_test.item==2)]\n",
        "\n",
        "# xgboost = XG_model_month.predict(df1)\n",
        "\n",
        "# # 실제 값과 예측 값을 하나의 DataFrame으로 만들고 visualize\n",
        "# result=pd.concat([df_test_orig[(df_test_orig.store==1)&(df_test_orig.item==2)].reset_index(), pd.DataFrame(xgboost, columns=['xgboost'])], axis=1, ignore_index=False)\n",
        "# result = result.set_index('date')\n",
        "# result = result.loc[:, ['sales', 'xgboost']]\n",
        "result.plot()"
      ],
      "metadata": {
        "id": "AwgTqnV2K-c5",
        "colab": {
          "base_uri": "https://localhost:8080/",
          "height": 211
        },
        "outputId": "356b3fb4-ead7-4914-a4d8-d9ac2d1ab5a6"
      },
      "execution_count": null,
      "outputs": [
        {
          "output_type": "error",
          "ename": "NameError",
          "evalue": "ignored",
          "traceback": [
            "\u001b[1;31m---------------------------------------------------------------------------\u001b[0m",
            "\u001b[1;31mNameError\u001b[0m                                 Traceback (most recent call last)",
            "\u001b[1;32mC:\\Users\\HWANGD~1\\AppData\\Local\\Temp/ipykernel_2264/3600525640.py\u001b[0m in \u001b[0;36m<module>\u001b[1;34m\u001b[0m\n\u001b[0;32m      8\u001b[0m \u001b[1;31m# result = result.set_index('date')\u001b[0m\u001b[1;33m\u001b[0m\u001b[1;33m\u001b[0m\u001b[0m\n\u001b[0;32m      9\u001b[0m \u001b[1;31m# result = result.loc[:, ['sales', 'xgboost']]\u001b[0m\u001b[1;33m\u001b[0m\u001b[1;33m\u001b[0m\u001b[0m\n\u001b[1;32m---> 10\u001b[1;33m \u001b[0mresult\u001b[0m\u001b[1;33m.\u001b[0m\u001b[0mplot\u001b[0m\u001b[1;33m(\u001b[0m\u001b[1;33m)\u001b[0m\u001b[1;33m\u001b[0m\u001b[1;33m\u001b[0m\u001b[0m\n\u001b[0m",
            "\u001b[1;31mNameError\u001b[0m: name 'result' is not defined"
          ]
        }
      ]
    },
    {
      "cell_type": "code",
      "metadata": {
        "id": "uZ-5pgsRshlA"
      },
      "source": [
        "# xgb=XGBClassifier(use_label_encoder=False,random_state=42,eval_metric='mlogloss')\n",
        "# xgb.fit(X_train,Y_train)\n",
        "# xgb_pred = xgb.predict(X_test)\n",
        "\n",
        "# print_clf_eval(Y_test, xgb_pred)"
      ],
      "execution_count": null,
      "outputs": []
    },
    {
      "cell_type": "markdown",
      "metadata": {
        "id": "zryqdrdkshlA"
      },
      "source": [
        "# Summary : 성능평가"
      ]
    },
    {
      "cell_type": "code",
      "metadata": {
        "id": "OYQFHv07shlA"
      },
      "source": [
        "# indexs = ['Keras MLP', 'Keras DNN', 'Keras logistic regression', 'Sklearn logistic regression', 'Sklearn Decision Tree', 'Sklearn RandomForest', 'LightGBM','XG Boost']\n",
        "# columns = ['Accuracy', 'Precision', 'Recall', 'F1-score', 'ROC-AUC']\n",
        "# temp = []\n",
        "\n",
        "# temp.append(get_clf_eval(Y_test, model_mlp_pred))\n",
        "# temp.append(get_clf_eval(Y_test, model_dnn_pred))\n",
        "# temp.append(get_clf_eval(Y_test, model_log_pred))\n",
        "# temp.append(get_clf_eval(Y_test, sk_log_pred))\n",
        "# temp.append(get_clf_eval(Y_test, sk_tree_pred))\n",
        "# temp.append(get_clf_eval(Y_test, sk_rf_pred))\n",
        "# temp.append(get_clf_eval(Y_test, lgbm_pred))\n",
        "# temp.append(get_clf_eval(Y_test, xgb_pred))\n",
        "\n",
        "# results = pd.DataFrame(temp, index=indexs, columns=columns)\n",
        "# results.sort_values(by=['F1-score'], axis=0, ascending=False)"
      ],
      "execution_count": null,
      "outputs": []
    },
    {
      "cell_type": "code",
      "source": [
        ""
      ],
      "metadata": {
        "id": "QInVy_hNQfDL"
      },
      "execution_count": null,
      "outputs": []
    }
  ]
}