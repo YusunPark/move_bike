{
  "cells": [
    {
      "cell_type": "markdown",
      "metadata": {
        "id": "view-in-github",
        "colab_type": "text"
      },
      "source": [
        "<a href=\"https://colab.research.google.com/github/YusunPark/move_bike/blob/main/%EC%BA%A1%EC%8A%A4%ED%86%A4_shortest.ipynb\" target=\"_parent\"><img src=\"https://colab.research.google.com/assets/colab-badge.svg\" alt=\"Open In Colab\"/></a>"
      ]
    },
    {
      "cell_type": "code",
      "source": [
        "import time\n",
        "import requests\n",
        "import json\n",
        "import pandas as pd\n",
        "import numpy as np\n",
        "import datetime"
      ],
      "metadata": {
        "id": "im-alvkcsLLj"
      },
      "execution_count": 1,
      "outputs": []
    },
    {
      "cell_type": "code",
      "source": [
        "# 자전거 데이터 호출\n",
        "def call_bike():\n",
        "  BIKE_API_KEY = '74796e6d72736f6c39314a50736843'\n",
        "\n",
        "  bike_url_1 = f'http://openapi.seoul.go.kr:8088/{BIKE_API_KEY}/json/bikeList/1/1000/'\n",
        "  bike_url_2 = f'http://openapi.seoul.go.kr:8088/{BIKE_API_KEY}/json/bikeList/1001/2000/'\n",
        "  bike_url_3 = f'http://openapi.seoul.go.kr:8088/{BIKE_API_KEY}/json/bikeList/2001/3000/'\n",
        "\n",
        "  resp_bike_1 = requests.get(bike_url_1)\n",
        "  bike_json_1 = json.loads(resp_bike_1.text)\n",
        "\n",
        "  resp_bike_2 = requests.get(bike_url_2)\n",
        "  bike_json_2 = json.loads(resp_bike_2.text)\n",
        "\n",
        "  resp_bike_3 = requests.get(bike_url_3)\n",
        "  bike_json_3 = json.loads(resp_bike_3.text)\n",
        "\n",
        "  df1 = pd.DataFrame.from_dict(bike_json_1['rentBikeStatus']['row'])\n",
        "  df2 = pd.DataFrame.from_dict(bike_json_2['rentBikeStatus']['row'])\n",
        "  df3 = pd.DataFrame.from_dict(bike_json_3['rentBikeStatus']['row'])\n",
        "\n",
        "  return pd.concat([df1, df2, df3])\n"
      ],
      "metadata": {
        "id": "kUOHKYovpF8B"
      },
      "execution_count": 2,
      "outputs": []
    },
    {
      "cell_type": "code",
      "source": [
        "data = call_bike()"
      ],
      "metadata": {
        "id": "iuRWoQhjpFxj"
      },
      "execution_count": 3,
      "outputs": []
    },
    {
      "cell_type": "code",
      "source": [
        "data = data[['stationLatitude','stationLongitude','stationId']]\n",
        "data.head()"
      ],
      "metadata": {
        "colab": {
          "base_uri": "https://localhost:8080/",
          "height": 206
        },
        "id": "JiDh0az_pFk9",
        "outputId": "afa426dc-b062-4664-9b0f-a78f63b21fcb"
      },
      "execution_count": 4,
      "outputs": [
        {
          "output_type": "execute_result",
          "data": {
            "text/plain": [
              "  stationLatitude stationLongitude stationId\n",
              "0     37.55564880     126.91062927      ST-4\n",
              "1     37.55495071     126.91083527      ST-5\n",
              "2     37.55062866     126.91498566      ST-6\n",
              "3     37.55000687     126.91482544      ST-7\n",
              "4     37.54864502     126.91282654      ST-8"
            ],
            "text/html": [
              "\n",
              "  <div id=\"df-83541e7f-9f58-4937-b55a-bfc67c94fecb\">\n",
              "    <div class=\"colab-df-container\">\n",
              "      <div>\n",
              "<style scoped>\n",
              "    .dataframe tbody tr th:only-of-type {\n",
              "        vertical-align: middle;\n",
              "    }\n",
              "\n",
              "    .dataframe tbody tr th {\n",
              "        vertical-align: top;\n",
              "    }\n",
              "\n",
              "    .dataframe thead th {\n",
              "        text-align: right;\n",
              "    }\n",
              "</style>\n",
              "<table border=\"1\" class=\"dataframe\">\n",
              "  <thead>\n",
              "    <tr style=\"text-align: right;\">\n",
              "      <th></th>\n",
              "      <th>stationLatitude</th>\n",
              "      <th>stationLongitude</th>\n",
              "      <th>stationId</th>\n",
              "    </tr>\n",
              "  </thead>\n",
              "  <tbody>\n",
              "    <tr>\n",
              "      <th>0</th>\n",
              "      <td>37.55564880</td>\n",
              "      <td>126.91062927</td>\n",
              "      <td>ST-4</td>\n",
              "    </tr>\n",
              "    <tr>\n",
              "      <th>1</th>\n",
              "      <td>37.55495071</td>\n",
              "      <td>126.91083527</td>\n",
              "      <td>ST-5</td>\n",
              "    </tr>\n",
              "    <tr>\n",
              "      <th>2</th>\n",
              "      <td>37.55062866</td>\n",
              "      <td>126.91498566</td>\n",
              "      <td>ST-6</td>\n",
              "    </tr>\n",
              "    <tr>\n",
              "      <th>3</th>\n",
              "      <td>37.55000687</td>\n",
              "      <td>126.91482544</td>\n",
              "      <td>ST-7</td>\n",
              "    </tr>\n",
              "    <tr>\n",
              "      <th>4</th>\n",
              "      <td>37.54864502</td>\n",
              "      <td>126.91282654</td>\n",
              "      <td>ST-8</td>\n",
              "    </tr>\n",
              "  </tbody>\n",
              "</table>\n",
              "</div>\n",
              "      <button class=\"colab-df-convert\" onclick=\"convertToInteractive('df-83541e7f-9f58-4937-b55a-bfc67c94fecb')\"\n",
              "              title=\"Convert this dataframe to an interactive table.\"\n",
              "              style=\"display:none;\">\n",
              "        \n",
              "  <svg xmlns=\"http://www.w3.org/2000/svg\" height=\"24px\"viewBox=\"0 0 24 24\"\n",
              "       width=\"24px\">\n",
              "    <path d=\"M0 0h24v24H0V0z\" fill=\"none\"/>\n",
              "    <path d=\"M18.56 5.44l.94 2.06.94-2.06 2.06-.94-2.06-.94-.94-2.06-.94 2.06-2.06.94zm-11 1L8.5 8.5l.94-2.06 2.06-.94-2.06-.94L8.5 2.5l-.94 2.06-2.06.94zm10 10l.94 2.06.94-2.06 2.06-.94-2.06-.94-.94-2.06-.94 2.06-2.06.94z\"/><path d=\"M17.41 7.96l-1.37-1.37c-.4-.4-.92-.59-1.43-.59-.52 0-1.04.2-1.43.59L10.3 9.45l-7.72 7.72c-.78.78-.78 2.05 0 2.83L4 21.41c.39.39.9.59 1.41.59.51 0 1.02-.2 1.41-.59l7.78-7.78 2.81-2.81c.8-.78.8-2.07 0-2.86zM5.41 20L4 18.59l7.72-7.72 1.47 1.35L5.41 20z\"/>\n",
              "  </svg>\n",
              "      </button>\n",
              "      \n",
              "  <style>\n",
              "    .colab-df-container {\n",
              "      display:flex;\n",
              "      flex-wrap:wrap;\n",
              "      gap: 12px;\n",
              "    }\n",
              "\n",
              "    .colab-df-convert {\n",
              "      background-color: #E8F0FE;\n",
              "      border: none;\n",
              "      border-radius: 50%;\n",
              "      cursor: pointer;\n",
              "      display: none;\n",
              "      fill: #1967D2;\n",
              "      height: 32px;\n",
              "      padding: 0 0 0 0;\n",
              "      width: 32px;\n",
              "    }\n",
              "\n",
              "    .colab-df-convert:hover {\n",
              "      background-color: #E2EBFA;\n",
              "      box-shadow: 0px 1px 2px rgba(60, 64, 67, 0.3), 0px 1px 3px 1px rgba(60, 64, 67, 0.15);\n",
              "      fill: #174EA6;\n",
              "    }\n",
              "\n",
              "    [theme=dark] .colab-df-convert {\n",
              "      background-color: #3B4455;\n",
              "      fill: #D2E3FC;\n",
              "    }\n",
              "\n",
              "    [theme=dark] .colab-df-convert:hover {\n",
              "      background-color: #434B5C;\n",
              "      box-shadow: 0px 1px 3px 1px rgba(0, 0, 0, 0.15);\n",
              "      filter: drop-shadow(0px 1px 2px rgba(0, 0, 0, 0.3));\n",
              "      fill: #FFFFFF;\n",
              "    }\n",
              "  </style>\n",
              "\n",
              "      <script>\n",
              "        const buttonEl =\n",
              "          document.querySelector('#df-83541e7f-9f58-4937-b55a-bfc67c94fecb button.colab-df-convert');\n",
              "        buttonEl.style.display =\n",
              "          google.colab.kernel.accessAllowed ? 'block' : 'none';\n",
              "\n",
              "        async function convertToInteractive(key) {\n",
              "          const element = document.querySelector('#df-83541e7f-9f58-4937-b55a-bfc67c94fecb');\n",
              "          const dataTable =\n",
              "            await google.colab.kernel.invokeFunction('convertToInteractive',\n",
              "                                                     [key], {});\n",
              "          if (!dataTable) return;\n",
              "\n",
              "          const docLinkHtml = 'Like what you see? Visit the ' +\n",
              "            '<a target=\"_blank\" href=https://colab.research.google.com/notebooks/data_table.ipynb>data table notebook</a>'\n",
              "            + ' to learn more about interactive tables.';\n",
              "          element.innerHTML = '';\n",
              "          dataTable['output_type'] = 'display_data';\n",
              "          await google.colab.output.renderOutput(dataTable, element);\n",
              "          const docLink = document.createElement('div');\n",
              "          docLink.innerHTML = docLinkHtml;\n",
              "          element.appendChild(docLink);\n",
              "        }\n",
              "      </script>\n",
              "    </div>\n",
              "  </div>\n",
              "  "
            ]
          },
          "metadata": {},
          "execution_count": 4
        }
      ]
    },
    {
      "cell_type": "code",
      "source": [
        "data.iloc[0]"
      ],
      "metadata": {
        "colab": {
          "base_uri": "https://localhost:8080/"
        },
        "id": "KwII_g6Vo5YD",
        "outputId": "2c1f9856-b72d-43f7-ca66-d0d2df49dbc1"
      },
      "execution_count": 11,
      "outputs": [
        {
          "output_type": "execute_result",
          "data": {
            "text/plain": [
              "stationLatitude      37.55564880\n",
              "stationLongitude    126.91062927\n",
              "stationId                   ST-4\n",
              "Name: 0, dtype: object"
            ]
          },
          "metadata": {},
          "execution_count": 11
        }
      ]
    },
    {
      "cell_type": "code",
      "source": [
        "a = pd.DataFrame"
      ],
      "metadata": {
        "id": "wOKjnIvM9oDj"
      },
      "execution_count": 56,
      "outputs": []
    },
    {
      "cell_type": "code",
      "source": [
        "a['a'] = distance"
      ],
      "metadata": {
        "colab": {
          "base_uri": "https://localhost:8080/",
          "height": 172
        },
        "id": "we27nJoqGhAB",
        "outputId": "01c6ef5b-1941-474a-bf45-556886a67dc9"
      },
      "execution_count": 59,
      "outputs": [
        {
          "output_type": "error",
          "ename": "TypeError",
          "evalue": "ignored",
          "traceback": [
            "\u001b[0;31m---------------------------------------------------------------------------\u001b[0m",
            "\u001b[0;31mTypeError\u001b[0m                                 Traceback (most recent call last)",
            "\u001b[0;32m<ipython-input-59-07dcf2aeabf6>\u001b[0m in \u001b[0;36m<module>\u001b[0;34m()\u001b[0m\n\u001b[0;32m----> 1\u001b[0;31m \u001b[0ma\u001b[0m\u001b[0;34m[\u001b[0m\u001b[0;34m'a'\u001b[0m\u001b[0;34m]\u001b[0m \u001b[0;34m=\u001b[0m \u001b[0mdistance\u001b[0m\u001b[0;34m\u001b[0m\u001b[0;34m\u001b[0m\u001b[0m\n\u001b[0m",
            "\u001b[0;31mTypeError\u001b[0m: 'type' object does not support item assignment"
          ]
        }
      ]
    },
    {
      "cell_type": "code",
      "source": [
        ""
      ],
      "metadata": {
        "id": "zsBVND5RGjXK"
      },
      "execution_count": null,
      "outputs": []
    },
    {
      "cell_type": "code",
      "source": [
        "API_KEY = '5d1b586339b7fbdfcd3c1088fc54a215'\n",
        "\n",
        "# 대형마트, 편의점, 학교, 학원, 지하철역, 문화시설\n",
        "category_group_code = ['MT1', 'CS2', 'SC4', 'AC5', 'SW8', 'CT1']\n",
        "\n",
        "\n",
        "\n",
        "30분?"
      ],
      "metadata": {
        "id": "iviwR_k-98xW"
      },
      "execution_count": 28,
      "outputs": []
    },
    {
      "cell_type": "code",
      "source": [
        "for code in category_group_code[1:]:\n",
        "  print(f'-------{code}-------')\n",
        "  # 새 distance 생성\n",
        "  distance = []\n",
        "  for i in range(2595):\n",
        "\n",
        "    bike_stop_y = data.iloc[i][0]\n",
        "    bike_stop_x = data.iloc[i][1]\n",
        "\n",
        "    url = f\"https://dapi.kakao.com/v2/local/search/category.json?category_group_code={code}&y={bike_stop_y}&x={bike_stop_x}&sort=distance\"\n",
        "    url_result = requests.get(url, params = {'category_group_code': code, 'page': 1, 'size' : 1}, headers={'Authorization' : 'KakaoAK ' + API_KEY}).json()\n",
        "    distance.append(int(url_result['documents'][0]['distance']))\n",
        "\n",
        "  data[code] = distance"
      ],
      "metadata": {
        "colab": {
          "base_uri": "https://localhost:8080/"
        },
        "id": "tEoXuC_Ezf9T",
        "outputId": "133421cc-b5ea-4cd5-be38-28116b8ff8a9"
      },
      "execution_count": null,
      "outputs": [
        {
          "output_type": "stream",
          "name": "stdout",
          "text": [
            "-------CS2-------\n",
            "-------SC4-------\n"
          ]
        }
      ]
    },
    {
      "cell_type": "code",
      "source": [
        "len(distance)"
      ],
      "metadata": {
        "colab": {
          "base_uri": "https://localhost:8080/"
        },
        "id": "DsuVRtsKyYv8",
        "outputId": "39094d1d-5c46-4257-f07d-f89c4a3dbe93"
      },
      "execution_count": 68,
      "outputs": [
        {
          "output_type": "execute_result",
          "data": {
            "text/plain": [
              "522"
            ]
          },
          "metadata": {},
          "execution_count": 68
        }
      ]
    },
    {
      "cell_type": "code",
      "source": [
        "data\n"
      ],
      "metadata": {
        "colab": {
          "base_uri": "https://localhost:8080/",
          "height": 423
        },
        "id": "NT0Dvqiuo8uq",
        "outputId": "73d5a334-3fde-41b9-83cf-79132897fbcd"
      },
      "execution_count": 71,
      "outputs": [
        {
          "output_type": "execute_result",
          "data": {
            "text/plain": [
              "    stationLatitude stationLongitude stationId  MT1\n",
              "0       37.55564880     126.91062927      ST-4  540\n",
              "1       37.55495071     126.91083527      ST-5  463\n",
              "2       37.55062866     126.91498566      ST-6  164\n",
              "3       37.55000687     126.91482544      ST-7  194\n",
              "4       37.54864502     126.91282654      ST-8  294\n",
              "..              ...              ...       ...  ...\n",
              "590     37.64805984     127.06239319   ST-3015  132\n",
              "591     37.50208282     126.89318848   ST-3040  269\n",
              "592     37.50300598     126.89382935   ST-3041  193\n",
              "593     37.57164001     127.03565979   ST-1747  431\n",
              "594     37.55688858     126.93510437     ST-34  199\n",
              "\n",
              "[2595 rows x 4 columns]"
            ],
            "text/html": [
              "\n",
              "  <div id=\"df-435fedb4-8e71-4a23-bcc6-83ca0547b42a\">\n",
              "    <div class=\"colab-df-container\">\n",
              "      <div>\n",
              "<style scoped>\n",
              "    .dataframe tbody tr th:only-of-type {\n",
              "        vertical-align: middle;\n",
              "    }\n",
              "\n",
              "    .dataframe tbody tr th {\n",
              "        vertical-align: top;\n",
              "    }\n",
              "\n",
              "    .dataframe thead th {\n",
              "        text-align: right;\n",
              "    }\n",
              "</style>\n",
              "<table border=\"1\" class=\"dataframe\">\n",
              "  <thead>\n",
              "    <tr style=\"text-align: right;\">\n",
              "      <th></th>\n",
              "      <th>stationLatitude</th>\n",
              "      <th>stationLongitude</th>\n",
              "      <th>stationId</th>\n",
              "      <th>MT1</th>\n",
              "    </tr>\n",
              "  </thead>\n",
              "  <tbody>\n",
              "    <tr>\n",
              "      <th>0</th>\n",
              "      <td>37.55564880</td>\n",
              "      <td>126.91062927</td>\n",
              "      <td>ST-4</td>\n",
              "      <td>540</td>\n",
              "    </tr>\n",
              "    <tr>\n",
              "      <th>1</th>\n",
              "      <td>37.55495071</td>\n",
              "      <td>126.91083527</td>\n",
              "      <td>ST-5</td>\n",
              "      <td>463</td>\n",
              "    </tr>\n",
              "    <tr>\n",
              "      <th>2</th>\n",
              "      <td>37.55062866</td>\n",
              "      <td>126.91498566</td>\n",
              "      <td>ST-6</td>\n",
              "      <td>164</td>\n",
              "    </tr>\n",
              "    <tr>\n",
              "      <th>3</th>\n",
              "      <td>37.55000687</td>\n",
              "      <td>126.91482544</td>\n",
              "      <td>ST-7</td>\n",
              "      <td>194</td>\n",
              "    </tr>\n",
              "    <tr>\n",
              "      <th>4</th>\n",
              "      <td>37.54864502</td>\n",
              "      <td>126.91282654</td>\n",
              "      <td>ST-8</td>\n",
              "      <td>294</td>\n",
              "    </tr>\n",
              "    <tr>\n",
              "      <th>...</th>\n",
              "      <td>...</td>\n",
              "      <td>...</td>\n",
              "      <td>...</td>\n",
              "      <td>...</td>\n",
              "    </tr>\n",
              "    <tr>\n",
              "      <th>590</th>\n",
              "      <td>37.64805984</td>\n",
              "      <td>127.06239319</td>\n",
              "      <td>ST-3015</td>\n",
              "      <td>132</td>\n",
              "    </tr>\n",
              "    <tr>\n",
              "      <th>591</th>\n",
              "      <td>37.50208282</td>\n",
              "      <td>126.89318848</td>\n",
              "      <td>ST-3040</td>\n",
              "      <td>269</td>\n",
              "    </tr>\n",
              "    <tr>\n",
              "      <th>592</th>\n",
              "      <td>37.50300598</td>\n",
              "      <td>126.89382935</td>\n",
              "      <td>ST-3041</td>\n",
              "      <td>193</td>\n",
              "    </tr>\n",
              "    <tr>\n",
              "      <th>593</th>\n",
              "      <td>37.57164001</td>\n",
              "      <td>127.03565979</td>\n",
              "      <td>ST-1747</td>\n",
              "      <td>431</td>\n",
              "    </tr>\n",
              "    <tr>\n",
              "      <th>594</th>\n",
              "      <td>37.55688858</td>\n",
              "      <td>126.93510437</td>\n",
              "      <td>ST-34</td>\n",
              "      <td>199</td>\n",
              "    </tr>\n",
              "  </tbody>\n",
              "</table>\n",
              "<p>2595 rows × 4 columns</p>\n",
              "</div>\n",
              "      <button class=\"colab-df-convert\" onclick=\"convertToInteractive('df-435fedb4-8e71-4a23-bcc6-83ca0547b42a')\"\n",
              "              title=\"Convert this dataframe to an interactive table.\"\n",
              "              style=\"display:none;\">\n",
              "        \n",
              "  <svg xmlns=\"http://www.w3.org/2000/svg\" height=\"24px\"viewBox=\"0 0 24 24\"\n",
              "       width=\"24px\">\n",
              "    <path d=\"M0 0h24v24H0V0z\" fill=\"none\"/>\n",
              "    <path d=\"M18.56 5.44l.94 2.06.94-2.06 2.06-.94-2.06-.94-.94-2.06-.94 2.06-2.06.94zm-11 1L8.5 8.5l.94-2.06 2.06-.94-2.06-.94L8.5 2.5l-.94 2.06-2.06.94zm10 10l.94 2.06.94-2.06 2.06-.94-2.06-.94-.94-2.06-.94 2.06-2.06.94z\"/><path d=\"M17.41 7.96l-1.37-1.37c-.4-.4-.92-.59-1.43-.59-.52 0-1.04.2-1.43.59L10.3 9.45l-7.72 7.72c-.78.78-.78 2.05 0 2.83L4 21.41c.39.39.9.59 1.41.59.51 0 1.02-.2 1.41-.59l7.78-7.78 2.81-2.81c.8-.78.8-2.07 0-2.86zM5.41 20L4 18.59l7.72-7.72 1.47 1.35L5.41 20z\"/>\n",
              "  </svg>\n",
              "      </button>\n",
              "      \n",
              "  <style>\n",
              "    .colab-df-container {\n",
              "      display:flex;\n",
              "      flex-wrap:wrap;\n",
              "      gap: 12px;\n",
              "    }\n",
              "\n",
              "    .colab-df-convert {\n",
              "      background-color: #E8F0FE;\n",
              "      border: none;\n",
              "      border-radius: 50%;\n",
              "      cursor: pointer;\n",
              "      display: none;\n",
              "      fill: #1967D2;\n",
              "      height: 32px;\n",
              "      padding: 0 0 0 0;\n",
              "      width: 32px;\n",
              "    }\n",
              "\n",
              "    .colab-df-convert:hover {\n",
              "      background-color: #E2EBFA;\n",
              "      box-shadow: 0px 1px 2px rgba(60, 64, 67, 0.3), 0px 1px 3px 1px rgba(60, 64, 67, 0.15);\n",
              "      fill: #174EA6;\n",
              "    }\n",
              "\n",
              "    [theme=dark] .colab-df-convert {\n",
              "      background-color: #3B4455;\n",
              "      fill: #D2E3FC;\n",
              "    }\n",
              "\n",
              "    [theme=dark] .colab-df-convert:hover {\n",
              "      background-color: #434B5C;\n",
              "      box-shadow: 0px 1px 3px 1px rgba(0, 0, 0, 0.15);\n",
              "      filter: drop-shadow(0px 1px 2px rgba(0, 0, 0, 0.3));\n",
              "      fill: #FFFFFF;\n",
              "    }\n",
              "  </style>\n",
              "\n",
              "      <script>\n",
              "        const buttonEl =\n",
              "          document.querySelector('#df-435fedb4-8e71-4a23-bcc6-83ca0547b42a button.colab-df-convert');\n",
              "        buttonEl.style.display =\n",
              "          google.colab.kernel.accessAllowed ? 'block' : 'none';\n",
              "\n",
              "        async function convertToInteractive(key) {\n",
              "          const element = document.querySelector('#df-435fedb4-8e71-4a23-bcc6-83ca0547b42a');\n",
              "          const dataTable =\n",
              "            await google.colab.kernel.invokeFunction('convertToInteractive',\n",
              "                                                     [key], {});\n",
              "          if (!dataTable) return;\n",
              "\n",
              "          const docLinkHtml = 'Like what you see? Visit the ' +\n",
              "            '<a target=\"_blank\" href=https://colab.research.google.com/notebooks/data_table.ipynb>data table notebook</a>'\n",
              "            + ' to learn more about interactive tables.';\n",
              "          element.innerHTML = '';\n",
              "          dataTable['output_type'] = 'display_data';\n",
              "          await google.colab.output.renderOutput(dataTable, element);\n",
              "          const docLink = document.createElement('div');\n",
              "          docLink.innerHTML = docLinkHtml;\n",
              "          element.appendChild(docLink);\n",
              "        }\n",
              "      </script>\n",
              "    </div>\n",
              "  </div>\n",
              "  "
            ]
          },
          "metadata": {},
          "execution_count": 71
        }
      ]
    },
    {
      "cell_type": "code",
      "source": [
        "url_one_point_result"
      ],
      "metadata": {
        "colab": {
          "base_uri": "https://localhost:8080/"
        },
        "id": "toOLnZAUo5P2",
        "outputId": "9d50fa71-5e81-4ea3-bcc7-e650e3c97920"
      },
      "execution_count": 52,
      "outputs": [
        {
          "output_type": "execute_result",
          "data": {
            "text/plain": [
              "{'documents': [{'address_name': '서울 마포구 서교동 441-17',\n",
              "   'category_group_code': 'CS2',\n",
              "   'category_group_name': '편의점',\n",
              "   'category_name': '가정,생활 > 편의점 > CU',\n",
              "   'distance': '40',\n",
              "   'id': '8625621',\n",
              "   'phone': '02-323-1779',\n",
              "   'place_name': 'CU 마포제일점',\n",
              "   'place_url': 'http://place.map.kakao.com/8625621',\n",
              "   'road_address_name': '서울 마포구 월드컵로14길 5',\n",
              "   'x': '126.910687444416',\n",
              "   'y': '37.5560146307157'}],\n",
              " 'meta': {'is_end': False,\n",
              "  'pageable_count': 45,\n",
              "  'same_name': None,\n",
              "  'total_count': 53858}}"
            ]
          },
          "metadata": {},
          "execution_count": 52
        }
      ]
    },
    {
      "cell_type": "code",
      "source": [
        "bike_stop_y = data.iloc[0][0]\n",
        "bike_stop_y"
      ],
      "metadata": {
        "colab": {
          "base_uri": "https://localhost:8080/",
          "height": 35
        },
        "id": "lIpdafcAynLY",
        "outputId": "bf8a35ed-5e7e-46ef-a878-99f5cc870b8e"
      },
      "execution_count": 54,
      "outputs": [
        {
          "output_type": "execute_result",
          "data": {
            "text/plain": [
              "'37.55564880'"
            ],
            "application/vnd.google.colaboratory.intrinsic+json": {
              "type": "string"
            }
          },
          "metadata": {},
          "execution_count": 54
        }
      ]
    },
    {
      "cell_type": "code",
      "source": [
        ""
      ],
      "metadata": {
        "id": "l0Zpwy1lym2x"
      },
      "execution_count": null,
      "outputs": []
    },
    {
      "cell_type": "code",
      "execution_count": null,
      "metadata": {
        "id": "UJECenY3gIV1"
      },
      "outputs": [],
      "source": [
        "import pandas as pd\n",
        "import numpy as np\n",
        "\n",
        "pd.set_option('display.max_rows', 100)\n",
        "pd.set_option('display.max_columns', 100)\n",
        "\n",
        "import matplotlib\n",
        "import matplotlib.pyplot as plt  # 파이플롯 사용\n",
        "from IPython.display import set_matplotlib_formats\n",
        "import seaborn as sns\n",
        "sns.set_style('whitegrid')\n",
        "\n",
        "\n",
        "set_matplotlib_formats('retina')  # 한글코드를 더 선명하게 해주는 조치, 레티나 설정\n",
        "matplotlib.rc('font', family='AppleGothic') # 폰트 설정\n",
        "matplotlib.rc('axes', unicode_minus=False) # 마이너스 폰트가 깨지는 경우가 있으므로 조치"
      ]
    },
    {
      "cell_type": "code",
      "source": [
        ""
      ],
      "metadata": {
        "id": "0a4-Pky5gcox"
      },
      "execution_count": null,
      "outputs": []
    },
    {
      "cell_type": "markdown",
      "metadata": {
        "id": "R33NJlz9gIV4"
      },
      "source": [
        "## 관악구 찢어 나누기"
      ]
    },
    {
      "cell_type": "code",
      "execution_count": null,
      "metadata": {
        "id": "9oqv_Qr4gIV5"
      },
      "outputs": [],
      "source": [
        "import requests\n",
        "import json\n",
        "\n",
        "#geo_path = 'https://raw.githubusercontent.com/TaewoongKong/code_sharing/master/seoul_municipalities_geo_simple.json'\n",
        "geo_json_file_url = 'https://raw.githubusercontent.com/TaewoongKong/code_sharing/master/seoul_municipalities_geo_simple.json'\n",
        "resp = requests.get(geo_json_file_url)\n",
        "geo_json = json.loads(resp.text)\n",
        "#geo_json = json.load(open(geo_path, encoding='utf-8'))\n",
        "# print(geo_json)"
      ]
    },
    {
      "cell_type": "markdown",
      "metadata": {
        "id": "-HmLCIKZgIV7"
      },
      "source": [
        "### gu_code_dict 에 서울시 '구'를 코드로 집어 넣는다."
      ]
    },
    {
      "cell_type": "code",
      "execution_count": null,
      "metadata": {
        "id": "ExiRikV_gIV9",
        "outputId": "2d8bc2d2-5f2d-4d78-9c6c-a55da164095c"
      },
      "outputs": [
        {
          "name": "stdout",
          "output_type": "stream",
          "text": [
            "{'강동구': 0, '송파구': 1, '강남구': 2, '서초구': 3, '관악구': 4, '동작구': 5, '영등포구': 6, '금천구': 7, '구로구': 8, '강서구': 9, '양천구': 10, '마포구': 11, '서대문구': 12, '은평구': 13, '노원구': 14, '도봉구': 15, '강북구': 16, '성북구': 17, '중랑구': 18, '동대문구': 19, '광진구': 20, '성동구': 21, '용산구': 22, '중구': 23, '종로구': 24}\n"
          ]
        }
      ],
      "source": [
        "gu_code_dict = {}\n",
        "for num in range(25):\n",
        "    gu_code_dict[geo_json['features'][num]['properties']['name']] = num\n",
        "print(gu_code_dict)"
      ]
    },
    {
      "cell_type": "markdown",
      "metadata": {
        "id": "RXVErt7CgIWA"
      },
      "source": [
        "## 각종 요소 지리 정보 가져오기\n",
        "\n",
        "- 스타벅스 (추가 1점)\n",
        "- 맥도날드\n",
        "- 버거킹\n",
        "- 다이소 (추가 1점)\n",
        "- 올리브영\n",
        "- 지하철역 (추가 2점)\n",
        "- 편의점"
      ]
    },
    {
      "cell_type": "code",
      "execution_count": null,
      "metadata": {
        "id": "JrnFqtZogIWC"
      },
      "outputs": [],
      "source": [
        "def grading(target, where_am_i, three_point, two_point, one_point, bonus_point):\n",
        "    \n",
        "    apikey = \"5d1b586339b7fbdfcd3c1088fc54a215\"\n",
        "    import json\n",
        "    import requests\n",
        "    if target == \"편의점\":\n",
        "        \n",
        "        category_group_code = \"CS2\"\n",
        "        where_am_i_x = where_am_i[0]\n",
        "        where_am_i_y = where_am_i[1]\n",
        "        \n",
        "        \n",
        "        url_three_point = f\"https://dapi.kakao.com/v2/local/search/category.json?category_group_code={category_group_code}&y={where_am_i_y}&x={where_am_i_x}&radius={three_point}\"\n",
        "        url_three_point_result = requests.get(url_three_point, params = {'category_group_code': category_group_code, 'page': 1, 'size' : 2}, headers={'Authorization' : 'KakaoAK ' + apikey}).json()\n",
        "\n",
        "        url_two_point = f\"https://dapi.kakao.com/v2/local/search/category.json?category_group_code={category_group_code}&y={where_am_i_y}&x={where_am_i_x}&radius={two_point}\"\n",
        "        url_two_point_result = requests.get(url_two_point, params = {'category_group_code': category_group_code, 'page': 1, 'size' : 2} , headers={'Authorization' : 'KakaoAK ' + apikey}).json()\n",
        "\n",
        "        url_one_point = f\"https://dapi.kakao.com/v2/local/search/category.json?category_group_code={category_group_code}&y={where_am_i_y}&x={where_am_i_x}&radius={one_point}\"\n",
        "        url_one_point_result = requests.get(url_one_point, params = {'category_group_code': category_group_code, 'page': 1, 'size' : 2}, headers={'Authorization' : 'KakaoAK ' + apikey}).json()\n",
        "        \n",
        "        if len(url_three_point_result['documents']) > 0:\n",
        "            grade = 3\n",
        "            is_it_close = f\"{three_point}미터 안에 {len(url_three_point_result['documents'])}개 존재\"\n",
        "        elif len(url_two_point_result['documents']) > 0:\n",
        "            grade = 2\n",
        "            is_it_close = f\"{two_point}미터 안에 {len(url_two_point_result['documents'])}개 존재\"\n",
        "        elif len(url_one_point_result['documents']) > 0:\n",
        "            grade = 1\n",
        "            is_it_close = f\"{one_point}미터 안에 {len(url_one_point_result['documents'])}개 존재\"\n",
        "        else:\n",
        "            grade = 0\n",
        "            is_it_close = f\"{one_point}미터 안에 없음\"\n",
        "        \n",
        "        if bonus_point != 0:\n",
        "            if grade != 0:\n",
        "                grade = grade + bonus_point\n",
        "        \n",
        "         \n",
        "        \n",
        "        return [grade, is_it_close]\n",
        "        \n",
        "    elif target == \"지하철역\":\n",
        "        \n",
        "        category_group_code = \"SW8\"\n",
        "        where_am_i_x = where_am_i[0]\n",
        "        where_am_i_y = where_am_i[1]\n",
        "        \n",
        "        \n",
        "        url_three_point = f\"https://dapi.kakao.com/v2/local/search/category.json?category_group_code={category_group_code}&y={where_am_i_y}&x={where_am_i_x}&radius={three_point}\"\n",
        "        url_three_point_result = requests.get(url_three_point, params = {'category_group_code': category_group_code, 'page': 1, 'size' : 3}, headers={'Authorization' : 'KakaoAK ' + apikey}).json()\n",
        "\n",
        "        url_two_point = f\"https://dapi.kakao.com/v2/local/search/category.json?category_group_code={category_group_code}&y={where_am_i_y}&x={where_am_i_x}&radius={two_point}\"\n",
        "        url_two_point_result = requests.get(url_two_point, params = {'category_group_code': category_group_code, 'page': 1, 'size' : 3}, headers={'Authorization' : 'KakaoAK ' + apikey}).json()\n",
        "\n",
        "        url_one_point = f\"https://dapi.kakao.com/v2/local/search/category.json?category_group_code={category_group_code}&y={where_am_i_y}&x={where_am_i_x}&radius={one_point}\"\n",
        "        url_one_point_result = requests.get(url_one_point, params = {'category_group_code': category_group_code, 'page': 1, 'size' : 3}, headers={'Authorization' : 'KakaoAK ' + apikey}).json()\n",
        "        \n",
        "        if len(url_three_point_result['documents']) > 0:\n",
        "            grade = 3\n",
        "            is_it_close = f\"{three_point}미터 안에 {len(url_three_point_result['documents'])}개 존재\"\n",
        "        elif len(url_two_point_result['documents']) > 0:\n",
        "            grade = 2\n",
        "            is_it_close = f\"{two_point}미터 안에 {len(url_two_point_result['documents'])}개 존재\"\n",
        "        elif len(url_one_point_result['documents']) > 0:\n",
        "            grade = 1\n",
        "            is_it_close = f\"{one_point}미터 안에 {len(url_one_point_result['documents'])}개 존재\"\n",
        "        else:\n",
        "            grade = 0\n",
        "            is_it_close = f\"{one_point}미터 안에 없음\"\n",
        "        \n",
        "        if bonus_point != 0:\n",
        "            if grade != 0:\n",
        "                grade = grade + bonus_point\n",
        "        \n",
        "        return [grade, is_it_close]\n",
        "        \n",
        "    else:\n",
        "        query = target\n",
        "        \n",
        "        where_am_i_x = where_am_i[0]\n",
        "        where_am_i_y = where_am_i[1]\n",
        "        \n",
        "        \n",
        "        url_three_point = f\"https://dapi.kakao.com/v2/local/search/keyword.json?query={query}&y={where_am_i_y}&x={where_am_i_x}&radius={three_point}\"\n",
        "        url_three_point_result = requests.get(url_three_point, params = {'query':query, 'page':1, 'size' : 2}, headers={'Authorization' : 'KakaoAK ' + apikey}).json()\n",
        "        \n",
        "        url_two_point = f\"https://dapi.kakao.com/v2/local/search/keyword.json?query={query}&y={where_am_i_y}&x={where_am_i_x}&radius={two_point}\"\n",
        "        url_two_point_result = requests.get(url_two_point, params = {'query':query, 'page':1, 'size' : 2}, headers={'Authorization' : 'KakaoAK ' + apikey}).json()\n",
        "        \n",
        "        url_one_point = f\"https://dapi.kakao.com/v2/local/search/keyword.json?query={query}&y={where_am_i_y}&x={where_am_i_x}&radius={one_point}\"\n",
        "        url_one_point_result = requests.get(url_one_point, params = {'query':query, 'page':1, 'size' : 2}, headers={'Authorization' : 'KakaoAK ' + apikey}).json()\n",
        "        \n",
        "        if len(url_three_point_result['documents']) > 0:\n",
        "            grade = 3\n",
        "            is_it_close = f\"{three_point}미터 안에 {len(url_three_point_result['documents'])}개 존재\"\n",
        "        elif len(url_two_point_result['documents']) > 0:\n",
        "            grade = 2\n",
        "            is_it_close = f\"{two_point}미터 안에 {len(url_two_point_result['documents'])}개 존재\"\n",
        "        elif len(url_one_point_result['documents']) > 0:\n",
        "            grade = 1\n",
        "            is_it_close = f\"{one_point}미터 안에 {len(url_one_point_result['documents'])}개 존재\"\n",
        "        else:\n",
        "            grade = 0\n",
        "            is_it_close = f\"{one_point}미터 안에 없음\"\n",
        "        \n",
        "        if bonus_point != 0:\n",
        "            if grade != 0:\n",
        "                grade = grade + bonus_point\n",
        "        \n",
        "        return [grade, is_it_close]\n",
        "        \n",
        "\n",
        "def final_grading(center_point_list):\n",
        "    apikey = \"5d1b586339b7fbdfcd3c1088fc54a215\"\n",
        "    import json\n",
        "    import requests\n",
        "    \n",
        "    total_grade_list = []\n",
        "    point_grade_dict_list = []\n",
        "    dong_name_list = []\n",
        "    for num in range(len(center_point_list)):\n",
        "        \n",
        "        dong_url = f\"https://dapi.kakao.com/v2/local/geo/coord2regioncode.json?x={center_point_list[num][0]}&y={center_point_list[num][1]}\"\n",
        "        dong_url_result = requests.get(dong_url, headers={'Authorization' : 'KakaoAK ' + apikey}).json()\n",
        "        dong_name = dong_url_result['documents'][0]['region_3depth_name']\n",
        "        \n",
        "        \n",
        "        point_grade_dict = {}\n",
        "        starbucks = grading(\"스타벅스\", center_point_list[num], three_point = 350, two_point = 600, one_point = 900, bonus_point = 0)\n",
        "        macdonald = grading(\"맥도날드\", center_point_list[num], three_point = 350, two_point = 600, one_point = 900, bonus_point = 0)\n",
        "        burgerking = grading(\"버거킹\", center_point_list[num], three_point = 350, two_point = 600, one_point = 900, bonus_point = 0)\n",
        "        daiso = grading(\"다이소\", center_point_list[num], three_point = 350, two_point = 600, one_point = 900, bonus_point = 1)\n",
        "        oliveyoung = grading(\"올리브영\", center_point_list[num], three_point = 350, two_point = 600, one_point = 900, bonus_point = 0)\n",
        "        subwaystation = grading(\"지하철역\", center_point_list[num], three_point = 350, two_point = 600, one_point = 900, bonus_point = 2)\n",
        "        cvs = grading(\"편의점\", center_point_list[num], three_point = 200, two_point = 400, one_point = 600, bonus_point = 0)\n",
        "        \n",
        "        total_grade_list.append(sum([starbucks[0], macdonald[0], burgerking[0], daiso[0], oliveyoung[0], subwaystation[0], cvs[0]]))\n",
        "\n",
        "        \n",
        "        point_grade_dict[\"스타벅스\"] = starbucks[1]\n",
        "        point_grade_dict[\"맥도날드\"] = macdonald[1]\n",
        "        point_grade_dict[\"버거킹\"] = burgerking[1]\n",
        "        point_grade_dict[\"다이소\"] = daiso[1]\n",
        "        point_grade_dict[\"올리브영\"] = oliveyoung[1]\n",
        "        point_grade_dict[\"지하철역\"] = subwaystation[1]\n",
        "        point_grade_dict[\"편의점\"] = cvs[1]\n",
        "        \n",
        "        point_grade_dict_list.append(point_grade_dict)\n",
        "        dong_name_list.append(dong_name)\n",
        "    return [total_grade_list, point_grade_dict_list, dong_name_list]\n",
        "        \n",
        "        \n",
        "        "
      ]
    },
    {
      "cell_type": "code",
      "execution_count": null,
      "metadata": {
        "id": "P4nX-cHKgIWJ"
      },
      "outputs": [],
      "source": [
        "def dividing_gu(gu_name, size):\n",
        "    \n",
        "    # 구 코드 정리\n",
        "    gu_code_dict = {}\n",
        "    for num in range(25):\n",
        "        gu_code_dict[geo_json['features'][num]['properties']['name']] = num\n",
        "    \n",
        "    gu_code = gu_code_dict[gu_name]\n",
        "    # 경도 (좌 - 우)\n",
        "    left_lon = sorted(np.array(geo_json['features'][gu_code]['geometry']['coordinates'][0])[:,0].tolist())[0]  # 가장 작은 경도값 - 제일 왼쪽\n",
        "    right_lon = sorted(np.array(geo_json['features'][gu_code]['geometry']['coordinates'][0])[:,0].tolist())[-1]  # 가장 큰 경도값 - 제일 오른쪽\n",
        "    gap_lon = ((right_lon - left_lon) / size)\n",
        "\n",
        "    lon_list = []\n",
        "    for num in range(size+1):\n",
        "        lon_list.append(left_lon + gap_lon*num)\n",
        "    \n",
        "    lon_center_list = [] # 중점의 세로 좌표\n",
        "    for num in range(size):\n",
        "        lon_center_list.append(np.mean([lon_list[num], lon_list[num + 1]]))\n",
        "\n",
        "    \n",
        "    # 위도 (상 - 하)\n",
        "    top_lat = sorted(np.array(geo_json['features'][gu_code]['geometry']['coordinates'][0])[:,1].tolist())[-1]  # 가장 높은 위도값 - 제일 위쪽\n",
        "    bottom_lat = sorted(np.array(geo_json['features'][gu_code]['geometry']['coordinates'][0])[:,1].tolist())[0]  # 가장 낮은 위도값 - 제일 위쪽\n",
        "    gap_lat = ((top_lat - bottom_lat) / size)\n",
        "\n",
        "    lat_list = []\n",
        "    for num in range(size + 1):\n",
        "        lat_list.append(bottom_lat + gap_lat*num)\n",
        "    \n",
        "    lat_center_list = []  # 중점의 가로 좌표\n",
        "    for num in range(size):\n",
        "        lat_center_list.append(np.mean([lat_list[num], lat_list[num + 1]]))\n",
        "\n",
        "    # 중점 좌표 모으기\n",
        "    center_point_list = []\n",
        "    for lat in lat_center_list:\n",
        "        for lon in lon_center_list:\n",
        "            center_point_list.append([lon, lat])\n",
        "    print(f\"{gu_name}의 중점 좌표 모음 = {center_point_list}\")\n",
        "    return center_point_list\n"
      ]
    },
    {
      "cell_type": "code",
      "execution_count": null,
      "metadata": {
        "id": "I1N9x3OMgIWK"
      },
      "outputs": [],
      "source": [
        "def draw_map(gu_name, size, fianl_grading):\n",
        "    \n",
        "    # 구 코드 정리\n",
        "    gu_code_dict = {}\n",
        "    for num in range(25):\n",
        "        gu_code_dict[geo_json['features'][num]['properties']['name']] = num\n",
        "    \n",
        "    gu_code = gu_code_dict[gu_name]\n",
        "    # 경도 (좌 - 우)\n",
        "    left_lon = sorted(np.array(geo_json['features'][gu_code]['geometry']['coordinates'][0])[:,0].tolist())[0]  # 가장 작은 경도값 - 제일 왼쪽\n",
        "    right_lon = sorted(np.array(geo_json['features'][gu_code]['geometry']['coordinates'][0])[:,0].tolist())[-1]  # 가장 큰 경도값 - 제일 오른쪽\n",
        "    gap_lon = ((right_lon - left_lon) / size)\n",
        "\n",
        "    lon_list = []\n",
        "    for num in range(size+1):\n",
        "        lon_list.append(left_lon + gap_lon*num)\n",
        "    \n",
        "    lon_center_list = [] # 중점의 세로 좌표\n",
        "    for num in range(size):\n",
        "        lon_center_list.append(np.mean([lon_list[num], lon_list[num + 1]]))\n",
        "\n",
        "    \n",
        "    # 위도 (상 - 하)\n",
        "    top_lat = sorted(np.array(geo_json['features'][gu_code]['geometry']['coordinates'][0])[:,1].tolist())[-1]  # 가장 높은 위도값 - 제일 위쪽\n",
        "    bottom_lat = sorted(np.array(geo_json['features'][gu_code]['geometry']['coordinates'][0])[:,1].tolist())[0]  # 가장 낮은 위도값 - 제일 위쪽\n",
        "    gap_lat = ((top_lat - bottom_lat) / size)\n",
        "\n",
        "    lat_list = []\n",
        "    for num in range(size + 1):\n",
        "        lat_list.append(bottom_lat + gap_lat*num)\n",
        "    \n",
        "    lat_center_list = []  # 중점의 가로 좌표\n",
        "    for num in range(size):\n",
        "        lat_center_list.append(np.mean([lat_list[num], lat_list[num + 1]]))\n",
        "\n",
        "    # 중점 좌표 모으기\n",
        "    center_point_list = []\n",
        "    for lat in lat_center_list:\n",
        "        for lon in lon_center_list:\n",
        "            center_point_list.append([lon, lat])\n",
        "\n",
        "            \n",
        "\n",
        "#     import plotly.graph_objects as go\n",
        "\n",
        "    fig = go.Figure()\n",
        "\n",
        "    # 세로선 긋기\n",
        "    \n",
        "    \n",
        "    \n",
        "    for num in range(size + 1):\n",
        "\n",
        "        fig.add_trace(go.Scattermapbox(\n",
        "            showlegend = False,\n",
        "            mode = \"lines\",\n",
        "            lon = [lon_list[num], lon_list[num]], \n",
        "            lat = [lat_list[0], lat_list[size]],\n",
        "            line = {'width' : 1, 'color' : 'gray'}))\n",
        "\n",
        "    # 가로선 긋기\n",
        "\n",
        "    for num in range(size + 1):\n",
        "        fig.add_trace(go.Scattermapbox(\n",
        "            showlegend = False,\n",
        "            mode = \"lines\",\n",
        "            lon = [lon_list[0], lon_list[size]],\n",
        "            lat = [lat_list[num], lat_list[num]],\n",
        "            line = {'width' : 1, 'color' : 'gray'}))\n",
        "\n",
        "    \n",
        "    \n",
        "    # 점 추가하기\n",
        "    # grading_list 말고 다른 정보까지 리스트로 가져와야한다\n",
        "                                \n",
        "    for index, point in enumerate(center_point_list):\n",
        "        fig.add_trace(go.Scattermapbox(\n",
        "            showlegend = False,\n",
        "            mode = \"markers\",\n",
        "            lon = [point[0]],\n",
        "            lat = [point[1]],\n",
        "            marker_color = 'blue',\n",
        "            marker_opacity = 0.5,\n",
        "            marker_size = fianl_grading[0][index],\n",
        "            # hover text 지정하기\n",
        "            hoverlabel = dict(bgcolor = 'white'),\n",
        "            hovertemplate= f\"{fianl_grading[2][index]} 인근 자취점수 : {fianl_grading[0][index]}점<br>========<br>맥도날드 : {fianl_grading[1][index]['맥도날드']}<br>버거킹 : {fianl_grading[1][index]['버거킹']}<br>스타벅스 : {fianl_grading[1][index]['스타벅스']}<br>지하철역 : {fianl_grading[1][index]['지하철역']}<br>다이소 : {fianl_grading[1][index]['다이소']}<br>올리브영 : {fianl_grading[1][index]['올리브영']}<br>편의점 : {fianl_grading[1][index]['편의점']}\"\n",
        "        ))\n",
        "    \n",
        "    \n",
        "    \n",
        "    \n",
        "    fig.update_layout(\n",
        "        mapbox = {\n",
        "            'style': \"stamen-terrain\",\n",
        "            'center': {'lon': np.mean(np.array(center_point_list)[:,0]),\n",
        "                       'lat': np.mean(np.array(center_point_list)[:,1])},\n",
        "            'zoom': 12,\n",
        "            'layers': [{'source': np.array(geo_json['features'][gu_code]),\n",
        "                        'type': \"fill\",\n",
        "                        'below': \"traces\",\n",
        "                        'color': \"royalblue\",\n",
        "                        'opacity': 0.3}]},\n",
        "        margin = {'l':0, 'r':0, 'b':0, 't':0})\n",
        "    \n",
        " \n",
        "#     from chart_studio.plotly import plot, iplot\n",
        "\n",
        "    # 다 만들고 그래프를 fig 와 같은 변수에 담음\n",
        "\n",
        "    plot(fig, filename = f\"{gu_name} - {size}\")\n",
        "    fig.show()"
      ]
    },
    {
      "cell_type": "code",
      "execution_count": null,
      "metadata": {
        "id": "cGxDm-pRgIWN"
      },
      "outputs": [],
      "source": [
        "# pip install tqdm\n",
        "# pip install plotly --upgrade"
      ]
    },
    {
      "cell_type": "code",
      "execution_count": null,
      "metadata": {
        "scrolled": false,
        "id": "EvAt6SJhgIWO",
        "outputId": "87307bc0-fd85-4f6b-91e1-25bd5e7981b5",
        "colab": {
          "referenced_widgets": [
            "a1e47689f9544cd9aad6424084855000"
          ]
        }
      },
      "outputs": [
        {
          "data": {
            "application/vnd.jupyter.widget-view+json": {
              "model_id": "a1e47689f9544cd9aad6424084855000",
              "version_major": 2,
              "version_minor": 0
            },
            "text/plain": [
              "HBox(children=(HTML(value=''), FloatProgress(value=0.0, max=25.0), HTML(value='')))"
            ]
          },
          "metadata": {},
          "output_type": "display_data"
        },
        {
          "name": "stdout",
          "output_type": "stream",
          "text": [
            "강동구의 중점 좌표 모음 = [[127.11577405196287, 37.51769886651482], [127.12396931516703, 37.51769886651482], [127.13216457837119, 37.51769886651482], [127.14035984157535, 37.51769886651482], [127.1485551047795, 37.51769886651482], [127.15675036798366, 37.51769886651482], [127.16494563118782, 37.51769886651482], [127.17314089439198, 37.51769886651482], [127.18133615759614, 37.51769886651482], [127.11577405196287, 37.52478298593864], [127.12396931516703, 37.52478298593864], [127.13216457837119, 37.52478298593864], [127.14035984157535, 37.52478298593864], [127.1485551047795, 37.52478298593864], [127.15675036798366, 37.52478298593864], [127.16494563118782, 37.52478298593864], [127.17314089439198, 37.52478298593864], [127.18133615759614, 37.52478298593864], [127.11577405196287, 37.531867105362466], [127.12396931516703, 37.531867105362466], [127.13216457837119, 37.531867105362466], [127.14035984157535, 37.531867105362466], [127.1485551047795, 37.531867105362466], [127.15675036798366, 37.531867105362466], [127.16494563118782, 37.531867105362466], [127.17314089439198, 37.531867105362466], [127.18133615759614, 37.531867105362466], [127.11577405196287, 37.53895122478629], [127.12396931516703, 37.53895122478629], [127.13216457837119, 37.53895122478629], [127.14035984157535, 37.53895122478629], [127.1485551047795, 37.53895122478629], [127.15675036798366, 37.53895122478629], [127.16494563118782, 37.53895122478629], [127.17314089439198, 37.53895122478629], [127.18133615759614, 37.53895122478629], [127.11577405196287, 37.54603534421011], [127.12396931516703, 37.54603534421011], [127.13216457837119, 37.54603534421011], [127.14035984157535, 37.54603534421011], [127.1485551047795, 37.54603534421011], [127.15675036798366, 37.54603534421011], [127.16494563118782, 37.54603534421011], [127.17314089439198, 37.54603534421011], [127.18133615759614, 37.54603534421011], [127.11577405196287, 37.55311946363394], [127.12396931516703, 37.55311946363394], [127.13216457837119, 37.55311946363394], [127.14035984157535, 37.55311946363394], [127.1485551047795, 37.55311946363394], [127.15675036798366, 37.55311946363394], [127.16494563118782, 37.55311946363394], [127.17314089439198, 37.55311946363394], [127.18133615759614, 37.55311946363394], [127.11577405196287, 37.56020358305776], [127.12396931516703, 37.56020358305776], [127.13216457837119, 37.56020358305776], [127.14035984157535, 37.56020358305776], [127.1485551047795, 37.56020358305776], [127.15675036798366, 37.56020358305776], [127.16494563118782, 37.56020358305776], [127.17314089439198, 37.56020358305776], [127.18133615759614, 37.56020358305776], [127.11577405196287, 37.567287702481586], [127.12396931516703, 37.567287702481586], [127.13216457837119, 37.567287702481586], [127.14035984157535, 37.567287702481586], [127.1485551047795, 37.567287702481586], [127.15675036798366, 37.567287702481586], [127.16494563118782, 37.567287702481586], [127.17314089439198, 37.567287702481586], [127.18133615759614, 37.567287702481586], [127.11577405196287, 37.57437182190541], [127.12396931516703, 37.57437182190541], [127.13216457837119, 37.57437182190541], [127.14035984157535, 37.57437182190541], [127.1485551047795, 37.57437182190541], [127.15675036798366, 37.57437182190541], [127.16494563118782, 37.57437182190541], [127.17314089439198, 37.57437182190541], [127.18133615759614, 37.57437182190541]]\n",
            "\n"
          ]
        },
        {
          "ename": "ModuleNotFoundError",
          "evalue": "No module named 'plotly'",
          "output_type": "error",
          "traceback": [
            "\u001b[1;31m---------------------------------------------------------------------------\u001b[0m",
            "\u001b[1;31mModuleNotFoundError\u001b[0m                       Traceback (most recent call last)",
            "\u001b[1;32m<ipython-input-15-e7658a10aacf>\u001b[0m in \u001b[0;36m<module>\u001b[1;34m\u001b[0m\n\u001b[0;32m      4\u001b[0m \u001b[1;32mfor\u001b[0m \u001b[0mkey\u001b[0m \u001b[1;32min\u001b[0m \u001b[0mnotebook\u001b[0m\u001b[1;33m.\u001b[0m\u001b[0mtqdm\u001b[0m\u001b[1;33m(\u001b[0m\u001b[0mlist\u001b[0m\u001b[1;33m(\u001b[0m\u001b[0mgu_code_dict\u001b[0m\u001b[1;33m.\u001b[0m\u001b[0mkeys\u001b[0m\u001b[1;33m(\u001b[0m\u001b[1;33m)\u001b[0m\u001b[1;33m)\u001b[0m\u001b[1;33m)\u001b[0m\u001b[1;33m:\u001b[0m\u001b[1;33m\u001b[0m\u001b[1;33m\u001b[0m\u001b[0m\n\u001b[0;32m      5\u001b[0m \u001b[1;31m# for key in list(gu_code_dict.keys()):\u001b[0m\u001b[1;33m\u001b[0m\u001b[1;33m\u001b[0m\u001b[1;33m\u001b[0m\u001b[0m\n\u001b[1;32m----> 6\u001b[1;33m     \u001b[0mdraw_map\u001b[0m\u001b[1;33m(\u001b[0m\u001b[0mkey\u001b[0m\u001b[1;33m,\u001b[0m \u001b[1;36m9\u001b[0m\u001b[1;33m,\u001b[0m \u001b[0mfinal_grading\u001b[0m\u001b[1;33m(\u001b[0m\u001b[0mdividing_gu\u001b[0m\u001b[1;33m(\u001b[0m\u001b[0mkey\u001b[0m\u001b[1;33m,\u001b[0m \u001b[1;36m9\u001b[0m\u001b[1;33m)\u001b[0m\u001b[1;33m)\u001b[0m\u001b[1;33m)\u001b[0m\u001b[1;31m#\u001b[0m\u001b[1;33m\u001b[0m\u001b[1;33m\u001b[0m\u001b[0m\n\u001b[0m\u001b[0;32m      7\u001b[0m \u001b[1;31m#     final_grading(dividing_gu(key, 9))\u001b[0m\u001b[1;33m\u001b[0m\u001b[1;33m\u001b[0m\u001b[1;33m\u001b[0m\u001b[0m\n",
            "\u001b[1;32m<ipython-input-6-8bd9095743a1>\u001b[0m in \u001b[0;36mdraw_map\u001b[1;34m(gu_name, size, fianl_grading)\u001b[0m\n\u001b[0;32m     42\u001b[0m \u001b[1;33m\u001b[0m\u001b[0m\n\u001b[0;32m     43\u001b[0m \u001b[1;33m\u001b[0m\u001b[0m\n\u001b[1;32m---> 44\u001b[1;33m     \u001b[1;32mimport\u001b[0m \u001b[0mplotly\u001b[0m\u001b[1;33m.\u001b[0m\u001b[0mgraph_objects\u001b[0m \u001b[1;32mas\u001b[0m \u001b[0mgo\u001b[0m\u001b[1;33m\u001b[0m\u001b[1;33m\u001b[0m\u001b[0m\n\u001b[0m\u001b[0;32m     45\u001b[0m \u001b[1;33m\u001b[0m\u001b[0m\n\u001b[0;32m     46\u001b[0m     \u001b[0mfig\u001b[0m \u001b[1;33m=\u001b[0m \u001b[0mgo\u001b[0m\u001b[1;33m.\u001b[0m\u001b[0mFigure\u001b[0m\u001b[1;33m(\u001b[0m\u001b[1;33m)\u001b[0m\u001b[1;33m\u001b[0m\u001b[1;33m\u001b[0m\u001b[0m\n",
            "\u001b[1;31mModuleNotFoundError\u001b[0m: No module named 'plotly'"
          ]
        }
      ],
      "source": [
        "# 준비됐으면 돌리세요!\n",
        "from tqdm import notebook\n",
        "\n",
        "for key in notebook.tqdm(list(gu_code_dict.keys())):\n",
        "# for key in list(gu_code_dict.keys()):\n",
        "    draw_map(key, 9, final_grading(dividing_gu(key, 9)))#     \n",
        "#     final_grading(dividing_gu(key, 9))"
      ]
    },
    {
      "cell_type": "code",
      "execution_count": null,
      "metadata": {
        "id": "rZZtfdIAgIWP"
      },
      "outputs": [],
      "source": [
        "a_list = list(gu_code_dict.keys())\n",
        "a_list.sort()\n",
        "a_list\n"
      ]
    },
    {
      "cell_type": "code",
      "execution_count": null,
      "metadata": {
        "id": "xl0VUalTgIWQ"
      },
      "outputs": [],
      "source": [
        ""
      ]
    },
    {
      "cell_type": "code",
      "execution_count": null,
      "metadata": {
        "id": "fS5hu3AvgIWR"
      },
      "outputs": [],
      "source": [
        ""
      ]
    },
    {
      "cell_type": "code",
      "execution_count": null,
      "metadata": {
        "id": "g_tNBPnMgIWR"
      },
      "outputs": [],
      "source": [
        ""
      ]
    }
  ],
  "metadata": {
    "kernelspec": {
      "display_name": "Python 3",
      "language": "python",
      "name": "python3"
    },
    "language_info": {
      "codemirror_mode": {
        "name": "ipython",
        "version": 3
      },
      "file_extension": ".py",
      "mimetype": "text/x-python",
      "name": "python",
      "nbconvert_exporter": "python",
      "pygments_lexer": "ipython3",
      "version": "3.7.7"
    },
    "colab": {
      "name": "캡스톤_shortest.ipynb",
      "provenance": [],
      "include_colab_link": true
    }
  },
  "nbformat": 4,
  "nbformat_minor": 0
}