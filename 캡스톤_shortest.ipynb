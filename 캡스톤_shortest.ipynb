{
  "cells": [
    {
      "cell_type": "markdown",
      "metadata": {
        "id": "view-in-github",
        "colab_type": "text"
      },
      "source": [
        "<a href=\"https://colab.research.google.com/github/YusunPark/move_bike/blob/main/%EC%BA%A1%EC%8A%A4%ED%86%A4_shortest.ipynb\" target=\"_parent\"><img src=\"https://colab.research.google.com/assets/colab-badge.svg\" alt=\"Open In Colab\"/></a>"
      ]
    },
    {
      "cell_type": "code",
      "source": [
        "import time\n",
        "import requests\n",
        "import json\n",
        "import pandas as pd\n",
        "import numpy as np\n",
        "import datetime"
      ],
      "metadata": {
        "id": "im-alvkcsLLj"
      },
      "execution_count": 1,
      "outputs": []
    },
    {
      "cell_type": "code",
      "source": [
        "# 자전거 데이터 호출\n",
        "def call_bike():\n",
        "  BIKE_API_KEY = '74796e6d72736f6c39314a50736843'\n",
        "\n",
        "  bike_url_1 = f'http://openapi.seoul.go.kr:8088/{BIKE_API_KEY}/json/bikeList/1/1000/'\n",
        "  bike_url_2 = f'http://openapi.seoul.go.kr:8088/{BIKE_API_KEY}/json/bikeList/1001/2000/'\n",
        "  bike_url_3 = f'http://openapi.seoul.go.kr:8088/{BIKE_API_KEY}/json/bikeList/2001/3000/'\n",
        "\n",
        "  resp_bike_1 = requests.get(bike_url_1)\n",
        "  bike_json_1 = json.loads(resp_bike_1.text)\n",
        "\n",
        "  resp_bike_2 = requests.get(bike_url_2)\n",
        "  bike_json_2 = json.loads(resp_bike_2.text)\n",
        "\n",
        "  resp_bike_3 = requests.get(bike_url_3)\n",
        "  bike_json_3 = json.loads(resp_bike_3.text)\n",
        "\n",
        "  df1 = pd.DataFrame.from_dict(bike_json_1['rentBikeStatus']['row'])\n",
        "  df2 = pd.DataFrame.from_dict(bike_json_2['rentBikeStatus']['row'])\n",
        "  df3 = pd.DataFrame.from_dict(bike_json_3['rentBikeStatus']['row'])\n",
        "\n",
        "  return pd.concat([df1, df2, df3])\n"
      ],
      "metadata": {
        "id": "kUOHKYovpF8B"
      },
      "execution_count": 2,
      "outputs": []
    },
    {
      "cell_type": "code",
      "source": [
        "data = call_bike()\n",
        "data = data[['stationLatitude','stationLongitude','stationId']]\n",
        "data.head()"
      ],
      "metadata": {
        "id": "iuRWoQhjpFxj"
      },
      "execution_count": 3,
      "outputs": []
    },
    {
      "cell_type": "code",
      "source": [
        "API_KEY = '5d1b586339b7fbdfcd3c1088fc54a215'\n",
        "\n",
        "# 대형마트, 편의점, 학교, 학원, 지하철역, 문화시설\n",
        "category_group_code = ['MT1', 'CS2', 'SC4', 'AC5', 'SW8', 'CT1']\n",
        "\n",
        "\n",
        "for code in category_group_code[1:]:\n",
        "  print(f'-------{code}-------')\n",
        "  # 새 distance 생성\n",
        "  distance = []\n",
        "  for i in range(2595):\n",
        "\n",
        "    bike_stop_y = data.iloc[i][0]\n",
        "    bike_stop_x = data.iloc[i][1]\n",
        "\n",
        "    url = f\"https://dapi.kakao.com/v2/local/search/category.json?category_group_code={code}&y={bike_stop_y}&x={bike_stop_x}&sort=distance\"\n",
        "    url_result = requests.get(url, params = {'category_group_code': code, 'page': 1, 'size' : 1}, headers={'Authorization' : 'KakaoAK ' + API_KEY}).json()\n",
        "    distance.append(int(url_result['documents'][0]['distance']))\n",
        "\n",
        "  data[code] = distance"
      ],
      "metadata": {
        "colab": {
          "base_uri": "https://localhost:8080/"
        },
        "id": "tEoXuC_Ezf9T",
        "outputId": "133421cc-b5ea-4cd5-be38-28116b8ff8a9"
      },
      "execution_count": null,
      "outputs": [
        {
          "output_type": "stream",
          "name": "stdout",
          "text": [
            "-------CS2-------\n",
            "-------SC4-------\n"
          ]
        }
      ]
    },
    {
      "cell_type": "code",
      "source": [
        "data.to_csv(\"distance_data.csv\")"
      ],
      "metadata": {
        "id": "Ws1tZTjnjMRb"
      },
      "execution_count": null,
      "outputs": []
    },
    {
      "cell_type": "code",
      "source": [
        ""
      ],
      "metadata": {
        "id": "l0Zpwy1lym2x"
      },
      "execution_count": null,
      "outputs": []
    },
    {
      "cell_type": "code",
      "source": [
        ""
      ],
      "metadata": {
        "id": "0a4-Pky5gcox"
      },
      "execution_count": null,
      "outputs": []
    },
    {
      "cell_type": "code",
      "execution_count": null,
      "metadata": {
        "id": "xl0VUalTgIWQ"
      },
      "outputs": [],
      "source": [
        ""
      ]
    },
    {
      "cell_type": "code",
      "execution_count": null,
      "metadata": {
        "id": "fS5hu3AvgIWR"
      },
      "outputs": [],
      "source": [
        ""
      ]
    },
    {
      "cell_type": "code",
      "execution_count": null,
      "metadata": {
        "id": "g_tNBPnMgIWR"
      },
      "outputs": [],
      "source": [
        ""
      ]
    }
  ],
  "metadata": {
    "kernelspec": {
      "display_name": "Python 3",
      "language": "python",
      "name": "python3"
    },
    "language_info": {
      "codemirror_mode": {
        "name": "ipython",
        "version": 3
      },
      "file_extension": ".py",
      "mimetype": "text/x-python",
      "name": "python",
      "nbconvert_exporter": "python",
      "pygments_lexer": "ipython3",
      "version": "3.7.7"
    },
    "colab": {
      "name": "캡스톤_shortest.ipynb",
      "provenance": [],
      "include_colab_link": true
    }
  },
  "nbformat": 4,
  "nbformat_minor": 0
}